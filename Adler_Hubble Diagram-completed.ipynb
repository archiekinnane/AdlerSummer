{
 "cells": [
  {
   "cell_type": "markdown",
   "metadata": {},
   "source": [
    "# Making Our Own Hubble Diagram\n",
    "\n",
    "In this Notebook we will create our own Hubble Diagram -- the relationship between distance and redshift. Throughout the process, we'll get to:\n",
    "\n",
    "-practice using Python to manipulate data sets and make plots\n",
    "\n",
    "-convert between different astronomical units (flux, magnitude, distance, etc.)\n",
    "\n",
    "-learn what 'redshift'\n",
    "\n",
    "-see how the expansion of the universe was discovered, and\n",
    "\n",
    "-see how the expansion rate of the universe allows us to calculate distances to astronomical objects"
   ]
  },
  {
   "cell_type": "markdown",
   "metadata": {},
   "source": [
    "First, we need to import all the modules we will use in this notebook. A 'module' is basically a prewritten piece of code that we can use to make a lot of processes much easier. \n",
    "\n",
    "A simple module might be something like divide_then_power, which divides the first input by the second input and then raises the result to the power of the third input (not sure why you would need something like this, but let's just go with it). \n",
    "\n",
    "Once you import this module, you might call it by typing \"divide_then_power(4,2,3),\" which would perform the operation (4/2)^3 and return 8, without you having to do all the messy work yourselves. \n",
    "\n",
    "Below I've written a little summary of what we will use each module for. (When we use the from ... import ..., that is because we are just importing a specific function from a larger module.)"
   ]
  },
  {
   "cell_type": "code",
   "execution_count": 15,
   "metadata": {
    "collapsed": false
   },
   "outputs": [],
   "source": [
    "from astropy.io import fits # a way to read in and manipualte a data format called fits\n",
    "from astropy import constants as const # gives us constants like c (speed of light), G (gravitational constant), etc.\n",
    "import matplotlib.pyplot as plt # the most common plotting module in python\n",
    "from astropy import units as u # let's us attach units to our data\n",
    "from scipy import stats # we'll just use it for a linear regression, to find the best fit slope of a scatterplot\n",
    "from astropy.coordinates import SkyCoord # lets us go between different coordinate types easily\n",
    "from astropy.coordinates import Distance, Angle # don't think we use this, not sure why I have it here, leaving it just in case\n",
    "from astropy.table import Table, Column # lets us put our data into a nice Table that is easy to work with\n",
    "from astropy.io import ascii # don't think we use this either\n",
    "import numpy as np # basic math operations\n",
    "%matplotlib inline"
   ]
  },
  {
   "cell_type": "markdown",
   "metadata": {},
   "source": [
    "Now that we've got our modules, it's time to read in our data. Download the file \"galaxies_subset.fits\" from my GitHub page and then use the cell below to get to the directory -- probably Downloads -- that the file is in. Remember, you have to be in the right directory to import a file! pwd to see where you are and cd to change directory!"
   ]
  },
  {
   "cell_type": "code",
   "execution_count": 2,
   "metadata": {
    "collapsed": false
   },
   "outputs": [
    {
     "name": "stdout",
     "output_type": "stream",
     "text": [
      "/Users/archiekinnane/Downloads\n"
     ]
    }
   ],
   "source": [
    "cd Downloads"
   ]
  },
  {
   "cell_type": "markdown",
   "metadata": {},
   "source": [
    "A bit about the data you are working with: this file is a (not exactly) random sample of 100 of the hundreds of thousands of galaxies identified by SDSS -- the Sloan Digital Sky Survey. I got it by querying the SDSS dataset and saving every 1000th galaxy. To do this, we use a different programming language called SQL. If you're curious, here's the SQL code to get this dataset. \n",
    "\n",
    "SELECT TOP 100 objId,z,zErr,absMagR, lumDist, distMod, synthR\n",
    "FROM Photoz\n",
    "WHERE\n",
    " nnIsInside=1 \n",
    " and nnCount>95 \n",
    " and zErr BETWEEN 0 and 0.03 \n",
    " and (objId%1000) = 0 \n",
    "\n",
    "\n",
    "Don't worry about this yet -- you'll learn how to query soon, though!"
   ]
  },
  {
   "cell_type": "markdown",
   "metadata": {},
   "source": [
    "Once we're in the right directory we want to open and inspect the data from the fits file. To open a fits file, we use the operator \"open.\" You then want to save this as whatever name you choose. So something like:\n",
    "\n",
    "name_you_choose = fits.open(\"name_of_file.fits\")\n",
    "\n",
    "Go ahead and open the file below."
   ]
  },
  {
   "cell_type": "code",
   "execution_count": 4,
   "metadata": {
    "collapsed": false
   },
   "outputs": [],
   "source": [
    "#open and name the fits file\n",
    "\n",
    "hdu1 = fits.open(\"galaxies_subset.fits\")\n",
    "\n"
   ]
  },
  {
   "cell_type": "markdown",
   "metadata": {},
   "source": [
    "Once you've done this, let's make sure everything we want is there. \"info\" gives you some basic information about the file. Type \"name_you_chose.info()\" to see this.\n",
    "\n",
    "Fits files usually have two sections -- the first, called PRIMARY, just has some basic information about the file, and nothing that we will really use. The second one is where the real data is. Make sure it has the right dimensions! Now let's check if all our columns are here, by typing \"name_you_chose[1].columns\". The [1] lets Python know you want the columns in the second fits array -- where the data is (Python starts numbering things with 0.) "
   ]
  },
  {
   "cell_type": "code",
   "execution_count": 5,
   "metadata": {
    "collapsed": false
   },
   "outputs": [
    {
     "name": "stdout",
     "output_type": "stream",
     "text": [
      "Filename: galaxies_subset.fits\n",
      "No.    Name         Type      Cards   Dimensions   Format\n",
      "0    PRIMARY     PrimaryHDU       5   (0,)            \n",
      "1                BinTableHDU     22   100R x 7C    [1K, 1E, 1E, 1E, 1E, 1E, 1E]   \n",
      "ColDefs(\n",
      "    name = 'objId'; format = '1K'\n",
      "    name = 'z'; format = '1E'\n",
      "    name = 'zErr'; format = '1E'\n",
      "    name = 'absMagR'; format = '1E'\n",
      "    name = 'lumDist'; format = '1E'\n",
      "    name = 'distMod'; format = '1E'\n",
      "    name = 'synthR'; format = '1E'\n",
      ")\n"
     ]
    }
   ],
   "source": [
    "# look at the fits file's 'info'\n",
    "\n",
    "hdu1.info()\n",
    "\n",
    "# have python list the columns for us\n",
    "\n",
    "print(hdu1[1].columns)\n",
    "\n"
   ]
  },
  {
   "cell_type": "markdown",
   "metadata": {},
   "source": [
    "Now let's put our data in a neat astropy Table. We'll use the Table module we imported above. You can call the table whatever you want, but it should be something that's both reflective of what's in it (galaxy data) but also short enough that it's not a pain to type out, which we will be doing a lot.\n",
    "\n",
    "This module works like this: table_name = Table(name_you_chose_before[1].data)\n",
    "\n",
    "(It might seems silly to have to retype a lot of these^ commands, but that's really the best way to learn how to code!)"
   ]
  },
  {
   "cell_type": "code",
   "execution_count": 6,
   "metadata": {
    "collapsed": true
   },
   "outputs": [],
   "source": [
    "# create your table here\n",
    "\n",
    "from astropy.table import Table\n",
    "Hub_gal = Table(hdu1[1].data)"
   ]
  },
  {
   "cell_type": "markdown",
   "metadata": {},
   "source": [
    "Then you can just type the name of your table to see it!"
   ]
  },
  {
   "cell_type": "code",
   "execution_count": 7,
   "metadata": {
    "collapsed": false
   },
   "outputs": [
    {
     "data": {
      "text/html": [
       "&lt;Table masked=False length=100&gt;\n",
       "<table id=\"table4606836112\">\n",
       "<thead><tr><th>objId</th><th>z</th><th>zErr</th><th>absMagR</th><th>lumDist</th><th>distMod</th><th>synthR</th></tr></thead>\n",
       "<thead><tr><th>int64</th><th>float32</th><th>float32</th><th>float32</th><th>float32</th><th>float32</th><th>float32</th></tr></thead>\n",
       "<tr><td>1237645941296923000</td><td>0.250062</td><td>0.024561</td><td>-21.5395</td><td>882.371</td><td>39.7283</td><td>18.5495</td></tr>\n",
       "<tr><td>1237645941298365000</td><td>0.24582</td><td>0.026461</td><td>-19.9996</td><td>865.39</td><td>39.6861</td><td>20.0239</td></tr>\n",
       "<tr><td>1237645941834908000</td><td>0.087063</td><td>0.024864</td><td>-19.4898</td><td>278.08</td><td>37.2209</td><td>17.7713</td></tr>\n",
       "<tr><td>1237645942907732000</td><td>0.261936</td><td>0.024943</td><td>-20.8707</td><td>930.236</td><td>39.843</td><td>19.3054</td></tr>\n",
       "<tr><td>1237645942908716000</td><td>0.388622</td><td>0.023132</td><td>-21.0093</td><td>1469.65</td><td>40.8361</td><td>20.5011</td></tr>\n",
       "<tr><td>1237645943435035000</td><td>0.200231</td><td>0.024691</td><td>-18.9625</td><td>686.933</td><td>39.1846</td><td>20.4472</td></tr>\n",
       "<tr><td>1237645943978984000</td><td>0.39692</td><td>0.029637</td><td>-19.8543</td><td>1506.71</td><td>40.8901</td><td>21.7909</td></tr>\n",
       "<tr><td>1237646585556370000</td><td>0.066177</td><td>0.025145</td><td>-16.7825</td><td>208.332</td><td>36.5938</td><td>19.7767</td></tr>\n",
       "<tr><td>1237646585559647000</td><td>0.074538</td><td>0.029302</td><td>-15.5224</td><td>236.029</td><td>36.8648</td><td>21.431</td></tr>\n",
       "<tr><td>1237646585560040000</td><td>0.14257</td><td>0.008368</td><td>-18.3862</td><td>472.282</td><td>38.371</td><td>20.1943</td></tr>\n",
       "<tr><td>...</td><td>...</td><td>...</td><td>...</td><td>...</td><td>...</td><td>...</td></tr>\n",
       "<tr><td>1237648703507399000</td><td>0.132729</td><td>0.023465</td><td>-20.0719</td><td>436.939</td><td>38.2021</td><td>18.253</td></tr>\n",
       "<tr><td>1237648703508513000</td><td>0.073414</td><td>0.020388</td><td>-17.7193</td><td>232.288</td><td>36.8301</td><td>19.1512</td></tr>\n",
       "<tr><td>1237648703510348000</td><td>0.082549</td><td>0.019688</td><td>-19.311</td><td>262.848</td><td>37.0985</td><td>17.8762</td></tr>\n",
       "<tr><td>1237648703511593000</td><td>0.510063</td><td>0.025915</td><td>-20.4957</td><td>2031.07</td><td>41.5386</td><td>22.0802</td></tr>\n",
       "<tr><td>1237648703512052000</td><td>0.16265</td><td>0.020627</td><td>-19.8917</td><td>545.583</td><td>38.6843</td><td>18.908</td></tr>\n",
       "<tr><td>1237648703516050000</td><td>0.332055</td><td>0.027257</td><td>-21.3976</td><td>1222.52</td><td>40.4363</td><td>19.5553</td></tr>\n",
       "<tr><td>1237648703518934000</td><td>0.079697</td><td>0.013628</td><td>-15.6865</td><td>253.269</td><td>37.0179</td><td>21.3125</td></tr>\n",
       "<tr><td>1237648703519917000</td><td>0.302943</td><td>0.022891</td><td>-20.4438</td><td>1099.21</td><td>40.2054</td><td>20.2281</td></tr>\n",
       "<tr><td>1237648703523063000</td><td>0.044613</td><td>0.021828</td><td>-13.4357</td><td>138.298</td><td>35.7041</td><td>22.3228</td></tr>\n",
       "<tr><td>1237648703523652000</td><td>0.233715</td><td>0.026482</td><td>-21.1908</td><td>817.279</td><td>39.5619</td><td>18.6915</td></tr>\n",
       "</table>"
      ],
      "text/plain": [
       "<Table masked=False length=100>\n",
       "       objId           z       zErr   absMagR  lumDist distMod  synthR\n",
       "       int64        float32  float32  float32  float32 float32 float32\n",
       "------------------- -------- -------- -------- ------- ------- -------\n",
       "1237645941296923000 0.250062 0.024561 -21.5395 882.371 39.7283 18.5495\n",
       "1237645941298365000  0.24582 0.026461 -19.9996  865.39 39.6861 20.0239\n",
       "1237645941834908000 0.087063 0.024864 -19.4898  278.08 37.2209 17.7713\n",
       "1237645942907732000 0.261936 0.024943 -20.8707 930.236  39.843 19.3054\n",
       "1237645942908716000 0.388622 0.023132 -21.0093 1469.65 40.8361 20.5011\n",
       "1237645943435035000 0.200231 0.024691 -18.9625 686.933 39.1846 20.4472\n",
       "1237645943978984000  0.39692 0.029637 -19.8543 1506.71 40.8901 21.7909\n",
       "1237646585556370000 0.066177 0.025145 -16.7825 208.332 36.5938 19.7767\n",
       "1237646585559647000 0.074538 0.029302 -15.5224 236.029 36.8648  21.431\n",
       "1237646585560040000  0.14257 0.008368 -18.3862 472.282  38.371 20.1943\n",
       "                ...      ...      ...      ...     ...     ...     ...\n",
       "1237648703507399000 0.132729 0.023465 -20.0719 436.939 38.2021  18.253\n",
       "1237648703508513000 0.073414 0.020388 -17.7193 232.288 36.8301 19.1512\n",
       "1237648703510348000 0.082549 0.019688  -19.311 262.848 37.0985 17.8762\n",
       "1237648703511593000 0.510063 0.025915 -20.4957 2031.07 41.5386 22.0802\n",
       "1237648703512052000  0.16265 0.020627 -19.8917 545.583 38.6843  18.908\n",
       "1237648703516050000 0.332055 0.027257 -21.3976 1222.52 40.4363 19.5553\n",
       "1237648703518934000 0.079697 0.013628 -15.6865 253.269 37.0179 21.3125\n",
       "1237648703519917000 0.302943 0.022891 -20.4438 1099.21 40.2054 20.2281\n",
       "1237648703523063000 0.044613 0.021828 -13.4357 138.298 35.7041 22.3228\n",
       "1237648703523652000 0.233715 0.026482 -21.1908 817.279 39.5619 18.6915"
      ]
     },
     "execution_count": 7,
     "metadata": {},
     "output_type": "execute_result"
    }
   ],
   "source": [
    "# look at your table\n",
    "\n",
    "Hub_gal"
   ]
  },
  {
   "cell_type": "markdown",
   "metadata": {},
   "source": [
    "It's usually a good idea to close your fits file once you've read the data into a table. Do this using name_you_chose.close()"
   ]
  },
  {
   "cell_type": "code",
   "execution_count": 8,
   "metadata": {
    "collapsed": true
   },
   "outputs": [],
   "source": [
    "hdu1.close()"
   ]
  },
  {
   "cell_type": "markdown",
   "metadata": {},
   "source": [
    "Now we want to add some columns to our Table. But first, we need to understand what columns we already have!\n",
    "\n",
    "objId: just a number corresponding to the galaxy for record keeping\n",
    "\n",
    "z: redshift\n",
    "\n",
    "zErr: the error in the redshift\n",
    "\n",
    "lumDist and distMod: these are two different types of distance measurements. We don't *technically* need these but we'll use them a little later on to cheat and make our graph a little bit cleaner.\n",
    "\n",
    "synthR: magnitude of the galaxy in the R band -- this just means how bright the galaxy is in the general wavelength range that corresponds to red light"
   ]
  },
  {
   "cell_type": "markdown",
   "metadata": {},
   "source": [
    "Now: what columns do we want to add? Actually, let's take a brief pause to revisit what we are trying to do here.\n",
    "\n",
    "Basically, we are making a Hubble Diagram -- a graph of distance versus redshift. We already have redshift, so we're good there. But we don't have distance. (Distances are actually a really hard thing to find in astronomy!) \n",
    "\n",
    "What we do have is magnitude -- how bright the galaxy is. From this we can get relative distance -- galaxies farther away should be dimmer, right? Kinda. Write below what assumptions this logic is built on:"
   ]
  },
  {
   "cell_type": "markdown",
   "metadata": {},
   "source": [
    "Assumptions:\n",
    "    \n"
   ]
  },
  {
   "cell_type": "markdown",
   "metadata": {},
   "source": [
    "### When you get here take a break and come see me and we'll go over the assumptions, and talk a little more about redshift and another distance method that relies on what are called \"standard candles\"!"
   ]
  },
  {
   "cell_type": "markdown",
   "metadata": {},
   "source": [
    "To convert the magnitudes we have --synthR -- to distances, we have to first stop over at flux (relative flux, that is), using the formula:\n",
    "\n",
    "Flux = 2.5^(-Magnitude)\n",
    "\n",
    "See if you can figure out how to do an operation like this using numpy! \n",
    "\n"
   ]
  },
  {
   "cell_type": "code",
   "execution_count": 10,
   "metadata": {
    "collapsed": false
   },
   "outputs": [
    {
     "data": {
      "text/plain": [
       "0.40000000000000002"
      ]
     },
     "execution_count": 10,
     "metadata": {},
     "output_type": "execute_result"
    }
   ],
   "source": [
    "# practice a power operation using numpy\n",
    "np.power(2.5, -1)\n"
   ]
  },
  {
   "cell_type": "markdown",
   "metadata": {},
   "source": [
    "Once you figure this out, we need to \n",
    "1) make a column where we apply this operation to every row of 'synthR' -- our magnitudes\n",
    "2) name this column, and\n",
    "3) add this column to our table\n",
    "\n",
    "We can do this all with one line, using an attribute of Table called \"add_column\"\n",
    "\n",
    "table_name.add_column(Column(**your operation using numpy and table_name['synthR'] goes here**, name = 'flux']\n",
    "\n",
    "Use the cell below to do this."
   ]
  },
  {
   "cell_type": "code",
   "execution_count": 11,
   "metadata": {
    "collapsed": true
   },
   "outputs": [],
   "source": [
    "# add flux column\n",
    "\n",
    "Hub_gal.add_column(Column(np.power(2.5, -1*Hub_gal['synthR']),name='flux'))"
   ]
  },
  {
   "cell_type": "markdown",
   "metadata": {},
   "source": [
    "Now we do the exact same thing, but now we're going from relative flux to relative distance. This uses the formula\"\n",
    "\n",
    "Relative distance = 1 / sqrt(Flux)\n",
    "\n",
    "Add a column to our table for relative distance, and name it rel_dist."
   ]
  },
  {
   "cell_type": "code",
   "execution_count": 12,
   "metadata": {
    "collapsed": false
   },
   "outputs": [],
   "source": [
    "# work out the numpy code, then add relative distance column\n",
    "\n",
    "Hub_gal.add_column(Column(1 / np.power(Hub_gal['flux'], 0.5), name = 'rel_dist'))"
   ]
  },
  {
   "cell_type": "markdown",
   "metadata": {},
   "source": [
    "Use the cell below to look at your table again. Are the new columns there?"
   ]
  },
  {
   "cell_type": "code",
   "execution_count": 13,
   "metadata": {
    "collapsed": false
   },
   "outputs": [
    {
     "data": {
      "text/html": [
       "&lt;Table masked=False length=100&gt;\n",
       "<table id=\"table4606836112\">\n",
       "<thead><tr><th>objId</th><th>z</th><th>zErr</th><th>absMagR</th><th>lumDist</th><th>distMod</th><th>synthR</th><th>flux</th><th>rel_dist</th></tr></thead>\n",
       "<thead><tr><th>int64</th><th>float32</th><th>float32</th><th>float32</th><th>float32</th><th>float32</th><th>float32</th><th>float32</th><th>float32</th></tr></thead>\n",
       "<tr><td>1237645941296923000</td><td>0.250062</td><td>0.024561</td><td>-21.5395</td><td>882.371</td><td>39.7283</td><td>18.5495</td><td>4.15348e-08</td><td>4906.75</td></tr>\n",
       "<tr><td>1237645941298365000</td><td>0.24582</td><td>0.026461</td><td>-19.9996</td><td>865.39</td><td>39.6861</td><td>20.0239</td><td>1.0757e-08</td><td>9641.74</td></tr>\n",
       "<tr><td>1237645941834908000</td><td>0.087063</td><td>0.024864</td><td>-19.4898</td><td>278.08</td><td>37.2209</td><td>17.7713</td><td>8.47401e-08</td><td>3435.23</td></tr>\n",
       "<tr><td>1237645942907732000</td><td>0.261936</td><td>0.024943</td><td>-20.8707</td><td>930.236</td><td>39.843</td><td>19.3054</td><td>2.07782e-08</td><td>6937.38</td></tr>\n",
       "<tr><td>1237645942908716000</td><td>0.388622</td><td>0.023132</td><td>-21.0093</td><td>1469.65</td><td>40.8361</td><td>20.5011</td><td>6.94691e-09</td><td>11997.9</td></tr>\n",
       "<tr><td>1237645943435035000</td><td>0.200231</td><td>0.024691</td><td>-18.9625</td><td>686.933</td><td>39.1846</td><td>20.4472</td><td>7.29862e-09</td><td>11705.2</td></tr>\n",
       "<tr><td>1237645943978984000</td><td>0.39692</td><td>0.029637</td><td>-19.8543</td><td>1506.71</td><td>40.8901</td><td>21.7909</td><td>2.13073e-09</td><td>21663.8</td></tr>\n",
       "<tr><td>1237646585556370000</td><td>0.066177</td><td>0.025145</td><td>-16.7825</td><td>208.332</td><td>36.5938</td><td>19.7767</td><td>1.34915e-08</td><td>8609.34</td></tr>\n",
       "<tr><td>1237646585559647000</td><td>0.074538</td><td>0.029302</td><td>-15.5224</td><td>236.029</td><td>36.8648</td><td>21.431</td><td>2.96311e-09</td><td>18370.7</td></tr>\n",
       "<tr><td>1237646585560040000</td><td>0.14257</td><td>0.008368</td><td>-18.3862</td><td>472.282</td><td>38.371</td><td>20.1943</td><td>9.20196e-09</td><td>10424.6</td></tr>\n",
       "<tr><td>...</td><td>...</td><td>...</td><td>...</td><td>...</td><td>...</td><td>...</td><td>...</td><td>...</td></tr>\n",
       "<tr><td>1237648703507399000</td><td>0.132729</td><td>0.023465</td><td>-20.0719</td><td>436.939</td><td>38.2021</td><td>18.253</td><td>5.45006e-08</td><td>4283.51</td></tr>\n",
       "<tr><td>1237648703508513000</td><td>0.073414</td><td>0.020388</td><td>-17.7193</td><td>232.288</td><td>36.8301</td><td>19.1512</td><td>2.39316e-08</td><td>6464.19</td></tr>\n",
       "<tr><td>1237648703510348000</td><td>0.082549</td><td>0.019688</td><td>-19.311</td><td>262.848</td><td>37.0985</td><td>17.8762</td><td>7.69742e-08</td><td>3604.35</td></tr>\n",
       "<tr><td>1237648703511593000</td><td>0.510063</td><td>0.025915</td><td>-20.4957</td><td>2031.07</td><td>41.5386</td><td>22.0802</td><td>1.63458e-09</td><td>24734.2</td></tr>\n",
       "<tr><td>1237648703512052000</td><td>0.16265</td><td>0.020627</td><td>-19.8917</td><td>545.583</td><td>38.6843</td><td>18.908</td><td>2.99054e-08</td><td>5782.62</td></tr>\n",
       "<tr><td>1237648703516050000</td><td>0.332055</td><td>0.027257</td><td>-21.3976</td><td>1222.52</td><td>40.4363</td><td>19.5553</td><td>1.65259e-08</td><td>7778.9</td></tr>\n",
       "<tr><td>1237648703518934000</td><td>0.079697</td><td>0.013628</td><td>-15.6865</td><td>253.269</td><td>37.0179</td><td>21.3125</td><td>3.30296e-09</td><td>17400.0</td></tr>\n",
       "<tr><td>1237648703519917000</td><td>0.302943</td><td>0.022891</td><td>-20.4438</td><td>1099.21</td><td>40.2054</td><td>20.2281</td><td>8.92133e-09</td><td>10587.3</td></tr>\n",
       "<tr><td>1237648703523063000</td><td>0.044613</td><td>0.021828</td><td>-13.4357</td><td>138.298</td><td>35.7041</td><td>22.3228</td><td>1.30877e-09</td><td>27641.9</td></tr>\n",
       "<tr><td>1237648703523652000</td><td>0.233715</td><td>0.026482</td><td>-21.1908</td><td>817.279</td><td>39.5619</td><td>18.6915</td><td>3.64674e-08</td><td>5236.58</td></tr>\n",
       "</table>"
      ],
      "text/plain": [
       "<Table masked=False length=100>\n",
       "       objId           z       zErr   absMagR  ...  synthR     flux    rel_dist\n",
       "       int64        float32  float32  float32  ... float32   float32   float32 \n",
       "------------------- -------- -------- -------- ... ------- ----------- --------\n",
       "1237645941296923000 0.250062 0.024561 -21.5395 ... 18.5495 4.15348e-08  4906.75\n",
       "1237645941298365000  0.24582 0.026461 -19.9996 ... 20.0239  1.0757e-08  9641.74\n",
       "1237645941834908000 0.087063 0.024864 -19.4898 ... 17.7713 8.47401e-08  3435.23\n",
       "1237645942907732000 0.261936 0.024943 -20.8707 ... 19.3054 2.07782e-08  6937.38\n",
       "1237645942908716000 0.388622 0.023132 -21.0093 ... 20.5011 6.94691e-09  11997.9\n",
       "1237645943435035000 0.200231 0.024691 -18.9625 ... 20.4472 7.29862e-09  11705.2\n",
       "1237645943978984000  0.39692 0.029637 -19.8543 ... 21.7909 2.13073e-09  21663.8\n",
       "1237646585556370000 0.066177 0.025145 -16.7825 ... 19.7767 1.34915e-08  8609.34\n",
       "1237646585559647000 0.074538 0.029302 -15.5224 ...  21.431 2.96311e-09  18370.7\n",
       "1237646585560040000  0.14257 0.008368 -18.3862 ... 20.1943 9.20196e-09  10424.6\n",
       "                ...      ...      ...      ... ...     ...         ...      ...\n",
       "1237648703507399000 0.132729 0.023465 -20.0719 ...  18.253 5.45006e-08  4283.51\n",
       "1237648703508513000 0.073414 0.020388 -17.7193 ... 19.1512 2.39316e-08  6464.19\n",
       "1237648703510348000 0.082549 0.019688  -19.311 ... 17.8762 7.69742e-08  3604.35\n",
       "1237648703511593000 0.510063 0.025915 -20.4957 ... 22.0802 1.63458e-09  24734.2\n",
       "1237648703512052000  0.16265 0.020627 -19.8917 ...  18.908 2.99054e-08  5782.62\n",
       "1237648703516050000 0.332055 0.027257 -21.3976 ... 19.5553 1.65259e-08   7778.9\n",
       "1237648703518934000 0.079697 0.013628 -15.6865 ... 21.3125 3.30296e-09  17400.0\n",
       "1237648703519917000 0.302943 0.022891 -20.4438 ... 20.2281 8.92133e-09  10587.3\n",
       "1237648703523063000 0.044613 0.021828 -13.4357 ... 22.3228 1.30877e-09  27641.9\n",
       "1237648703523652000 0.233715 0.026482 -21.1908 ... 18.6915 3.64674e-08  5236.58"
      ]
     },
     "execution_count": 13,
     "metadata": {},
     "output_type": "execute_result"
    }
   ],
   "source": [
    "# print table\n",
    "\n",
    "Hub_gal"
   ]
  },
  {
   "cell_type": "markdown",
   "metadata": {},
   "source": [
    "Now we're going to plot our relative distances versus redshift using matplotlib.pyplot (which we've imported as just plt so we don't have to type that whole thing out every time). Put relative distance on the x-axis, and redshift on the y-axis. Label your axes! \n",
    "\n",
    "Here's a pyplot reference: https://matplotlib.org/users/pyplot_tutorial.html\n",
    "\n",
    "And if you get stuck just let me know!"
   ]
  },
  {
   "cell_type": "code",
   "execution_count": 16,
   "metadata": {
    "collapsed": false
   },
   "outputs": [
    {
     "data": {
      "text/plain": [
       "<matplotlib.collections.PathCollection at 0x11337c050>"
      ]
     },
     "execution_count": 16,
     "metadata": {},
     "output_type": "execute_result"
    },
    {
     "data": {
      "image/png": "[encoded data removed]",
      "text/plain": [
       "<matplotlib.figure.Figure at 0x11698e950>"
      ]
     },
     "metadata": {},
     "output_type": "display_data"
    }
   ],
   "source": [
    "# plot redshift versus distance\n",
    "\n",
    "plt.scatter(Hub_gal['rel_dist'], Hub_gal['z'])\n",
    "\n"
   ]
  },
  {
   "cell_type": "markdown",
   "metadata": {},
   "source": [
    "What's the general trend? Remember what redshift means -- what does this tell us about the relationship between distance and recession speed?\n",
    "\n",
    "Answer: \n",
    "\n",
    "With better data this relationship would be more linear. What do you think is introducing such large errors?\n",
    "\n",
    "Answer:\n",
    "\n"
   ]
  },
  {
   "cell_type": "markdown",
   "metadata": {},
   "source": [
    "Now we're going to cheat a bit. Since our y-axis is relative distance, our slope has meaningless units. But we also have \"actual\" distances to these galaxies in our table (by the end of the Notebook you'll understand why it would have been redudant to use these distances from the start). What we can do is \"normalize\" our relative distances with our lumDist values. \n",
    "\n",
    "There's no reason to prefer one ratio over any of the others, so let's just use the first! Remember, you can call a specific row of our table like this:\n",
    "\n",
    "1st row of lumDist column: your_table_name['lumDist'][1]\n",
    "\n",
    "1st row of rel_dist column: your_table_name['rel_dist'][1]\n",
    "\n",
    "If we multiply every entry in our relative distance column by this \"conversion factor\", then we should end up with real distances with physically meaningful distances.\n",
    "\n",
    "Add a column to our table where we do this^. Name it 'dist'. This is a little confusing so come see me if you're having problems!"
   ]
  },
  {
   "cell_type": "code",
   "execution_count": 17,
   "metadata": {
    "collapsed": true
   },
   "outputs": [],
   "source": [
    "# add distance column. print your table to make sure it's there\n",
    "\n",
    "Hub_gal.add_column(Column(Hub_gal['rel_dist']*(Hub_gal['lumDist'][1]/Hub_gal['rel_dist'][1]), name = 'dist'))"
   ]
  },
  {
   "cell_type": "markdown",
   "metadata": {},
   "source": [
    "Since we're already cheating, we might as well go all the way. Next, we're going to use a for loop to get rid of all of our galaxies that have calculated distances too far from their 'actual' values. What types of galaxies do we expect to be deleted when we do this?\n",
    "\n",
    "Answer:\n",
    "\n"
   ]
  },
  {
   "cell_type": "markdown",
   "metadata": {},
   "source": [
    "Let's say that we'll get rid of galaxies with distances less than half or more than twice their lumDist value. Use a for loop to delete rows that have distances outside these ranges.\n",
    "\n",
    "Here's a few things you might need for this. \n",
    "\n",
    "You want the range of your for loop to be the entire set. len(name_of_set) will give you the length of a data set -- a good thing to use for for loops so that your code will still work if you change the length of the data you're working with.\n",
    "\n",
    "name_of_you_table.remove_row(i) will delete the ith row\n",
    "\n",
    "So iterate through our table, removing a row if it has a dist less than 0.5 * lumDist or greater than 2 * lumDist!"
   ]
  },
  {
   "cell_type": "code",
   "execution_count": 18,
   "metadata": {
    "collapsed": true
   },
   "outputs": [],
   "source": [
    "# for loop -- you'll probably run into an error here, come see me for a workaround!\n",
    "\n",
    "badrow = []\n",
    "\n",
    "for i in range(0, len(Hub_gal['lumDist'])):\n",
    "    if Hub_gal['lumDist'][i] / Hub_gal['dist'][i] > 2 or Hub_gal['lumDist'][i] / Hub_gal['dist'][i] < 0.5:\n",
    "        badrow.append(i)\n",
    "        \n",
    "badrow_rev = []\n",
    "\n",
    "for i in reversed(badrow):\n",
    "    badrow_rev.append(i)\n",
    "\n",
    "for i in range(0, len(badrow)):\n",
    "    Hub_gal.remove_row(badrow_rev[i])"
   ]
  },
  {
   "cell_type": "markdown",
   "metadata": {},
   "source": [
    "How many rows did we delete? \n",
    "\n",
    "Answer:\n",
    "\n"
   ]
  },
  {
   "cell_type": "code",
   "execution_count": 19,
   "metadata": {
    "collapsed": false
   },
   "outputs": [
    {
     "data": {
      "text/plain": [
       "68"
      ]
     },
     "execution_count": 19,
     "metadata": {},
     "output_type": "execute_result"
    }
   ],
   "source": [
    "# find new length of table\n",
    "\n",
    "len(Hub_gal)"
   ]
  },
  {
   "cell_type": "markdown",
   "metadata": {},
   "source": [
    "Two more things: \n",
    "\n",
    "First, plot the new data! Does it look better?\n",
    "\n",
    "Next, let's find the slope of a line of best fit for this graph! We're going to use the stats package. The code should look like this:\n",
    "\n",
    "stats.linregress(x,y)\n",
    "\n",
    "Multiply the redshift value by 300,000 to convert it from redshift (unitless) to recession speed. (You can just do 300,000 * your_table['z'] in the plt.plot argument.)\n",
    "\n",
    "Where does the 300,000 come from? What units will this make our recession speed?\n",
    "\n",
    "Answer:\n",
    "\n"
   ]
  },
  {
   "cell_type": "code",
   "execution_count": 22,
   "metadata": {
    "collapsed": false
   },
   "outputs": [
    {
     "data": {
      "text/plain": [
       "<matplotlib.collections.PathCollection at 0x116ae5990>"
      ]
     },
     "execution_count": 22,
     "metadata": {},
     "output_type": "execute_result"
    },
    {
     "data": {
      "image/png": "[encoded data removed]",
      "text/plain": [
       "<matplotlib.figure.Figure at 0x114bce9d0>"
      ]
     },
     "metadata": {},
     "output_type": "display_data"
    }
   ],
   "source": [
    "# make a new plot\n",
    "\n",
    "plt.scatter(Hub_gal['dist'],300000*Hub_gal['z'])\n"
   ]
  },
  {
   "cell_type": "code",
   "execution_count": 25,
   "metadata": {
    "collapsed": false
   },
   "outputs": [
    {
     "data": {
      "text/plain": [
       "(67.735503738436051,\n",
       " 23824.195261347886,\n",
       " 0.82503530045910944,\n",
       " 5.1335656705842313e-18,\n",
       " 5.7106128527912565)"
      ]
     },
     "execution_count": 25,
     "metadata": {},
     "output_type": "execute_result"
    }
   ],
   "source": [
    "# find the slope of the line of best fit\n",
    "\n",
    "stats.linregress(Hub_gal['dist'], 300000*Hub_gal['z'])"
   ]
  },
  {
   "cell_type": "markdown",
   "metadata": {},
   "source": [
    "The first output is the slope! What value did you get? The distance units we converted to are Megaparsecs. What units does this make the slope?\n",
    "\n",
    "Answer: 68 km/s/Mpc\n",
    "\n"
   ]
  }
 ],
 "metadata": {
  "kernelspec": {
   "display_name": "Python 2",
   "language": "python",
   "name": "python2"
  },
  "language_info": {
   "codemirror_mode": {
    "name": "ipython",
    "version": 2
   },
   "file_extension": ".py",
   "mimetype": "text/x-python",
   "name": "python",
   "nbconvert_exporter": "python",
   "pygments_lexer": "ipython2",
   "version": "2.7.13"
  }
 },
 "nbformat": 4,
 "nbformat_minor": 0
}
