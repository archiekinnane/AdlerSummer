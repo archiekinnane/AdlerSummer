{
 "cells": [
  {
   "cell_type": "markdown",
   "metadata": {},
   "source": [
    "# Mapping galaxies' 3D positions\n",
    "\n",
    "In this notebook, we'll use a bunch of data downloaded from SDSS -- the Sloan Digital Sky Server. We'll organize it, convert redshift to distance, and then export it the standard file type used by planetarium software so that we can look at the galaxies' 3D positions."
   ]
  },
  {
   "cell_type": "markdown",
   "metadata": {},
   "source": [
    "First, let's again import all of the modules we will need."
   ]
  },
  {
   "cell_type": "code",
   "execution_count": 7,
   "metadata": {},
   "outputs": [],
   "source": [
    "from astropy.io import fits\n",
    "import matplotlib.pyplot as plt\n",
    "from astropy import units as u\n",
    "from astropy.coordinates import SkyCoord\n",
    "from astropy.coordinates import Distance, Angle\n",
    "from astropy.table import Table, Column\n",
    "from astropy.io import ascii\n",
    "import numpy as np\n",
    "import seaborn as sns\n",
    "from astropy.cosmology import Planck15\n",
    "sns.set()\n",
    "%matplotlib inline"
   ]
  },
  {
   "cell_type": "markdown",
   "metadata": {},
   "source": [
    "### \"Querying\" SDSS\n",
    "Next, we have to query our data from SDSS using CasJobs. \"Querying\" is a term for running a script that will download, from a larger data set, only the data you need. On the database we can see all the different parameters that are available to be queried. We will download the ones necessary to locate its position (RA, Dec, and redshift -- which will give us distance), and some properties of the galaxies, like spectro_Flux_r / i (flux in red / infrared band). The following SQL script will select these data for us.\n",
    "```\n",
    "SELECT gz.ra, gz.dec, sp.z, sp.spectroFlux_r as r, \n",
    "  sp. spectroFlux_i as i into mydb.galaxydata from DR10.zooSpec as gz \n",
    "  JOIN  DR8.specObjAll as sp on sp.specobjid=gz.specobjid\n",
    "WHERE sp.zWarning=0 and sp.z >0.0005\n",
    "```\n",
    "You don't have to do anything with this^. Just download the table: galaxies_archiekinnane.fit."
   ]
  },
  {
   "cell_type": "markdown",
   "metadata": {},
   "source": [
    "### Reading in the fits file\n",
    "We want to open, inspect, and read in the data from the fits file, just like we did with the data in the Hubble Diagram notebook. See if you can remember how to open and name a fits file, look at its \"info\", and print its columns! Feel free to consult your Hubble Diagram notebook."
   ]
  },
  {
   "cell_type": "code",
   "execution_count": 2,
   "metadata": {},
   "outputs": [],
   "source": [
    "# open and name the file, look at info, print columns\n",
    "\n"
   ]
  },
  {
   "cell_type": "markdown",
   "metadata": {},
   "source": [
    "### Putting it in an astropy Table\n",
    "Now put it in a neat astropy Table and take a look at what we have."
   ]
  },
  {
   "cell_type": "code",
   "execution_count": 3,
   "metadata": {},
   "outputs": [],
   "source": [
    "# create and name a Table with the fits data\n",
    "\n",
    "# close the hdu file\n",
    "\n",
    "# look at your table"
   ]
  },
  {
   "cell_type": "markdown",
   "metadata": {},
   "source": [
    "### Converting redshift to distance\n",
    "\n",
    "Remember the linear relationship between redshift and distance that we discovered by creating our Hubble Diagram? Now, we want to convert our redshifts into comoving distances. \n",
    "\n",
    "#### What is comoving distance?\n",
    "There are a few ways to represent distances in Astronomy. \n",
    "\n",
    "*Lookback-time distance* is how long it took the light we are seeing to reach us. \n",
    "*Luminosity distance* is the distance -- found using the inverse square law -- that the galaxies would emit at their observed brightness (this is what we used in our Hubble Diagram exercise). \n",
    "*Comoving distance*, what we're using here, scales out the expansion of the universe. If we were able to stop the expansion of the universe and go and measure the distance to galaxies this is what we would get.\n",
    "\n",
    "There's a a handy Astropy method called Planck15.comoving_distance that will do this for us. It works by taking redshift as its argument and then returning a distance! Remember how you added columns in the Hubble Diagram exercise? Here, we want to add a column -- name it 'distance' -- where we convert every redshift into a distance. See if you can figure out how to do this below."
   ]
  },
  {
   "cell_type": "code",
   "execution_count": 6,
   "metadata": {},
   "outputs": [],
   "source": [
    "# add 'distance' column\n",
    "\n"
   ]
  },
  {
   "cell_type": "markdown",
   "metadata": {},
   "source": [
    "### Converting to magnitudes\n",
    "We also want to convert our luminosity units (nanomaggies) into typical magnitudes. The formula to do so is:\n",
    "```\n",
    "Magnitude = 22.5 - 2.5 * log(L in nanomaggies)\n",
    "```\n",
    "You might notice that this means that the brighter something is (higher nanomaggies) the lower magnitude it has. This is an extremely annoying astronomy convention.\n",
    "\n",
    "Add a column below based on this conversion. Name it 'mags'."
   ]
  },
  {
   "cell_type": "code",
   "execution_count": null,
   "metadata": {},
   "outputs": [],
   "source": []
  },
  {
   "cell_type": "markdown",
   "metadata": {},
   "source": [
    "### Using SkyCoord\n",
    "We also want to create a column of coordinate objects, which will make it much easier to convert between coordinate systems later. To do this, we're going to use the astropy method SkyCoord. You can input 'locations' to SkyCoord using whatever coordinate system you currently have your data in -- for us, that means RA, Dec, and comoving distance. Then, you just have to specify what it is that you gave SkyCoord, which we do using \"frame = 'icrs'\", which is basically the J2000 equatorial frame -- what our RA and Dec values are referential to. Run the code below:\n",
    "```\n",
    "coordsCol = SkyCoord(your_tablename['ra'], your_tablename['dec'],unit=(u.degree, u.degree),distance=Distance(your_tablename['distance'],u.pc),frame='icrs')\n",
    "\n",
    "```"
   ]
  },
  {
   "cell_type": "code",
   "execution_count": 5,
   "metadata": {},
   "outputs": [],
   "source": [
    "# create coordsCol with SkyCoord\n",
    "\n"
   ]
  },
  {
   "cell_type": "markdown",
   "metadata": {},
   "source": [
    "To see an example of what SkyCoord can do, run the following code, which performs the normally very difficult task of converting coordinate systems like *that*!\n",
    "\n",
    "```\n",
    "print (coordsCol[1])\n",
    "print (coordsCol[1].galactic)\n",
    "```"
   ]
  },
  {
   "cell_type": "code",
   "execution_count": null,
   "metadata": {},
   "outputs": [],
   "source": []
  },
  {
   "cell_type": "markdown",
   "metadata": {},
   "source": [
    "### Plotting our galaxies on the sky\n",
    "Let's see where our galaxies are on the sky. It's kind of complicated to change to a sky projection instead of just a normal rectangular plot, so I'm just going to have you run the code below. Look through it and see if you can figure out what's going on, though! We're utilizing our SkyCoord objects again to make unit conversions really easily.\n",
    "```\n",
    "fig = plt.figure (figsize=(13,6))\n",
    "ax = fig.add_subplot(111,projection=\"mollweide\")\n",
    "plt.scatter(Angle(galaxies['ra'],u.deg).wrap_at(180.*u.deg).radian, Angle(galaxies['dec'],u.deg).radian,\n",
    "            s=0.1*np.log(galaxies['r']))\n",
    "```"
   ]
  },
  {
   "cell_type": "code",
   "execution_count": null,
   "metadata": {},
   "outputs": [],
   "source": []
  },
  {
   "cell_type": "markdown",
   "metadata": {},
   "source": [
    "Finally, we're going to write our data to a VOtable,a standard format that is read by most planetarium software. The code below will create this file in whatever directory you're currently in, and then we can use this to look at our galaxies' 3D positions using some fancy software!\n",
    "```\n",
    "your_tablename.write('galaxydata.xml',format='votable')\n",
    "```"
   ]
  },
  {
   "cell_type": "code",
   "execution_count": 9,
   "metadata": {},
   "outputs": [],
   "source": [
    "# write your VOtable\n",
    "\n"
   ]
  },
  {
   "cell_type": "markdown",
   "metadata": {},
   "source": [
    "That's it!"
   ]
  }
 ],
 "metadata": {
  "kernelspec": {
   "display_name": "Python 3",
   "language": "python",
   "name": "python3"
  },
  "language_info": {
   "codemirror_mode": {
    "name": "ipython",
    "version": 3
   },
   "file_extension": ".py",
   "mimetype": "text/x-python",
   "name": "python",
   "nbconvert_exporter": "python",
   "pygments_lexer": "ipython3",
   "version": "3.6.5"
  }
 },
 "nbformat": 4,
 "nbformat_minor": 1
}
