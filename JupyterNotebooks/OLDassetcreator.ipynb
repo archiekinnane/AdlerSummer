{
 "cells": [
  {
   "cell_type": "code",
   "execution_count": 1,
   "metadata": {},
   "outputs": [],
   "source": [
    "filename = 'galaxyzoo.asset'\n",
    "speck_file = 'galaxyzoo.speck'\n",
    "code_name = 'galaxyzoo'\n",
    "gui_name = 'Galaxy Zoo'\n",
    "gui_path = \"/Universe/Galaxies\""
   ]
  },
  {
   "cell_type": "code",
   "execution_count": 15,
   "metadata": {},
   "outputs": [],
   "source": [
    "f = open(filename,\"w+\")\n",
    "f.write(\n",
    "    \"local assetHelper = asset.require('util/asset_helper') \\r\\n \\r\\n \\r\\n \\r\\n\" +\n",
    "    \"local textures = asset.syncedResource({\\r\\n\" +\n",
    "    \"    Name = \\\"\" + gui_name + \" Textures\\\",\\r\\n\" +\n",
    "    \"    Type = \\\"HttpSynchronization\\\",\\r\\n\" + \n",
    "    \"    Identifier = \\\"digitaluniverse_\" + code_name + \"_textures\\\",\\r\\n\" + \n",
    "    \"    Version = 1\\r\\n\" + \n",
    "    \"})\\r\\n \\r\\n\" + \n",
    "    \n",
    "    \"local speck = asset.syncedResource({\\r\\n\" +\n",
    "    \"    Name = \\\"\" + gui_name + \" Speck Files\\\",\\r\\n\" + \n",
    "    \"    Type = \\\"HttpSynchronization\\\",\\r\\n\" + \n",
    "    \"    Identifier = \\\"digitaluniverse_\" + code_name + \"_speck\\\",\\r\\n\" + \n",
    "    \"    Version = 1\\r\\n\" + \n",
    "    \"})\\r\\n \\r\\n\" +\n",
    "    \n",
    "    \"local object = {\\r\\n\" +\n",
    "    \"    Name = \\\"\" + gui_name + \"\\\",\\r\\n\" +\n",
    "    \"    Renderable = {\\r\\n\" + \n",
    "    \"        Type = \\\"RenderableBillboardsCloud\\\",\\r\\n\" +\n",
    "    \"        Enabled = false,\\r\\n\" + \n",
    "    \"        Color = { 0.8, 0.8, 1.0 },\\r\\n\" + \n",
    "    \"        Transparency = 1.0,\\r\\n\" + \n",
    "    \"        ScaleFactor = 507.88,\\r\\n\" + \n",
    "    \"        File = speck .. \\\"/\" + speck_file + \"\\\",\\r\\n\" + \n",
    "    \"        Texture = textures .. \\\"/point3.png\\\",\\r\\n\" + \n",
    "    \"        Unit = \\\"Mpc\\\",\\r\\n\" + \n",
    "    \"        -- Fade in value in the same unit as \\\"Unit\\\"\\r\\n\" + \n",
    "    \"        FadeInDistances = { 220.0, 650.0 },\\r\\n\" + \n",
    "    \"        BillboardMaxSize = 50.0,\\r\\n\" + \n",
    "    \"        BillboardMinSize = 0.0,\\r\\n\" + \n",
    "    \"        TextSize = 14.8,\\r\\n\" + \n",
    "    \"        TextMinSize = 10.0,\\r\\n\" + \n",
    "    \"        TextMaxSize = 50.0\\r\\n\" + \n",
    "    \"    },\\r\\n\" + \n",
    "    \"    GuiPath = \\\"\" + gui_path + \"\\\"\\r\\n\" + \n",
    "    \"}\\r\\n \\r\\n \\r\\n \\r\\n\" + \n",
    "    \"assetHelper.registerSceneGraphNodesAndExport(asset, { object })\"\n",
    ")\n",
    "f.close()"
   ]
  },
  {
   "cell_type": "code",
   "execution_count": null,
   "metadata": {},
   "outputs": [],
   "source": []
  }
 ],
 "metadata": {
  "kernelspec": {
   "display_name": "Python 3",
   "language": "python",
   "name": "python3"
  },
  "language_info": {
   "codemirror_mode": {
    "name": "ipython",
    "version": 3
   },
   "file_extension": ".py",
   "mimetype": "text/x-python",
   "name": "python",
   "nbconvert_exporter": "python",
   "pygments_lexer": "ipython3",
   "version": "3.6.5"
  }
 },
 "nbformat": 4,
 "nbformat_minor": 2
}
