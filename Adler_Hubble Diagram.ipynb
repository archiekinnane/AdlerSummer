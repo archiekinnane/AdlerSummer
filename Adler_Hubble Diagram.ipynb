{
 "cells": [
  {
   "cell_type": "markdown",
   "metadata": {},
   "source": [
    "# Making Our Own Hubble Diagram\n",
    "\n",
    "In this Notebook we will create our own Hubble Diagram -- the relationship between distance and redshift. Throughout the process, we'll get to:\n",
    "\n",
    "-practice using Python to manipulate data sets and make plots\n",
    "-convert between different astronomical units (flux, magnitude, distance, etc.)\n",
    "-learn what 'redshift' is\n",
    "-see how the expansion of the universe was discovered, and\n",
    "-see how the expansion rate of the universe allows us to calculate distances to astronomical objects"
   ]
  },
  {
   "cell_type": "markdown",
   "metadata": {},
   "source": [
    "First, we need to import all the modules we will use in this notebook. A 'module' is basically a prewritten piece of code that we can use to make a lot of processes much easier. \n",
    "\n",
    "A simple module might be something like divide_then_power, which divides the first input by the second input and then raises the result to the power of the third input (not sure why you would need something like this, but let's just go with it). \n",
    "\n",
    "Once you import this module, you might call it by typing \"divide_then_power(4,2,3),\" which would perform the operation (4/2)^3 and return 8, without you having to do all the messy work yourselves. \n",
    "\n",
    "Below I've written a little summary of what we will use each module for. (When we use the from ... import ..., that is because we are just importing a specific function from a larger module.)"
   ]
  },
  {
   "cell_type": "code",
   "execution_count": 59,
   "metadata": {
    "collapsed": false
   },
   "outputs": [],
   "source": [
    "from astropy.io import fits # a way to read in and manipualte a data format called fits\n",
    "from astropy import constants as const # gives us constants like c (speed of light), G (gravitational constant), etc.\n",
    "import matplotlib.pyplot as plt # the most common plotting module in python\n",
    "from astropy import units as u # let's us attach units to our data\n",
    "from scipy import stats # we'll just use it for a linear regression, to find the best fit slope of a scatterplot\n",
    "from astropy.coordinates import SkyCoord # lets us go between different coordinate types easily\n",
    "from astropy.coordinates import Distance, Angle # don't think we use this, not sure why I have it here, leaving it just in case\n",
    "from astropy.table import Table, Column # lets us put our data into a nice Table that is easy to work with\n",
    "from astropy.io import ascii # don't think we use this either\n",
    "import numpy as np # basic math operations\n",
    "%matplotlib inline # this will make our plots show up in the notebook itself"
   ]
  },
  {
   "cell_type": "markdown",
   "metadata": {},
   "source": [
    "Now that we've got our modules, it's time to read in our data. Download the file \"galaxies_subset.fits\" from my GitHub page and then use the cell below to get to the directory -- probably Downloads -- that the file is in. Remember, you have to be in the right directory to import a file!"
   ]
  },
  {
   "cell_type": "code",
   "execution_count": null,
   "metadata": {
    "collapsed": true
   },
   "outputs": [],
   "source": [
    "# go to the directory the file is in here. Remember: cd to change directory, pwd to see where you are!\n",
    "\n"
   ]
  },
  {
   "cell_type": "markdown",
   "metadata": {},
   "source": [
    "A bit about the data you are working with: this file is a (not exactly) random sample of the hundreds of thousands of galaxies identified by SDSS -- the Sloan Digital Sky Survey. I got it by querying the SDSS dataset and saving every 1000th galaxy. To do this, we use a different programming language called SQL. If you're curious, here's the SQL code to get this dataset. \n",
    "\n",
    "SELECT TOP 100 objId,z,zErr,absMagR, lumDist, distMod, synthR\n",
    "FROM Photoz\n",
    "WHERE\n",
    " nnIsInside=1 \n",
    " and nnCount>95 \n",
    " and zErr BETWEEN 0 and 0.03 \n",
    " and (objId%1000) = 0 \n",
    "\n",
    "\n",
    "Don't worry about this yet -- you'll learn how to query soon, though!"
   ]
  },
  {
   "cell_type": "markdown",
   "metadata": {},
   "source": [
    "Once we're in the right directory we want to open and inspect the data from the fits file. To open a fits file, we use the operator \"open.\" You then want to save this as whatever name you choose. So something like:\n",
    "\n",
    "name_you_choose = fits.open(\"name_of_file.fits\")\n",
    "\n",
    "Go ahead and open the file below."
   ]
  },
  {
   "cell_type": "code",
   "execution_count": 72,
   "metadata": {
    "collapsed": false
   },
   "outputs": [],
   "source": [
    "#open and name the fits file\n",
    "\n"
   ]
  },
  {
   "cell_type": "markdown",
   "metadata": {},
   "source": [
    "Once you've done this, let's make sure everything we want is there. \"info\" gives you some basic information about the file. Type \"name_you_chose.info()\" to see this.\n",
    "\n",
    "Fits files usually have two sections -- the first, called PRIMARY, just has some basic information about the file, and nothing that we will really use. The second one is where the real data is. Make sure it has the right dimensions! Now let's check if all our columns are here, by typing \"name_you_chose[1].columns\". The [1] lets Python know you want the columns in the second fits array -- where the data is (Python starts numbering things with 0.) "
   ]
  },
  {
   "cell_type": "code",
   "execution_count": 73,
   "metadata": {
    "collapsed": false
   },
   "outputs": [],
   "source": [
    "# look at the fits file 'info'\n",
    "\n",
    "\n",
    "# have python list the columns for us\n",
    "\n"
   ]
  },
  {
   "cell_type": "markdown",
   "metadata": {},
   "source": [
    "Now let's put our data in a neat astropy Table. We'll use the Table module we imported above. You can call the table whatever you want, but it should be something that's both reflective of what's in it (galaxy data) but also short enough that it's not a pain to type out, which we will be doing a lot.\n",
    "\n",
    "This module works like this: table_name = Table(name_you_chose_before[1].data)\n",
    "\n",
    "(It might seems silly to have to retype a lot of these^ commands, but that's really the best way to learn how to code!)"
   ]
  },
  {
   "cell_type": "code",
   "execution_count": 4,
   "metadata": {
    "collapsed": true
   },
   "outputs": [],
   "source": [
    "# create your table here\n",
    "\n"
   ]
  },
  {
   "cell_type": "markdown",
   "metadata": {},
   "source": [
    "Then you can just type the name of your table to see it!"
   ]
  },
  {
   "cell_type": "code",
   "execution_count": null,
   "metadata": {
    "collapsed": false
   },
   "outputs": [],
   "source": [
    "# look at your table\n",
    "\n"
   ]
  },
  {
   "cell_type": "markdown",
   "metadata": {},
   "source": [
    "Now we want to add some columns to our Table. But first, we need to understand what columns we already have!\n",
    "\n",
    "objId: just a number corresponding to the galaxy for record keeping\n",
    "\n",
    "z: redshift\n",
    "\n",
    "zErr: the error in the redshift\n",
    "lumDist and distMod: these are two different types of distance measurements. We don't *technically* need these but we'll use them a little later on to cheat and make our graph a little bit cleaner.\n",
    "synthR: magnitude of the galaxy in the R band -- this just means how bright the galaxy is in the general wavelength range that corresponds to red light"
   ]
  },
  {
   "cell_type": "markdown",
   "metadata": {},
   "source": [
    "Now: what columns do we want to add? First, let's take a brief pause to revisit what we are trying to do here.\n",
    "\n",
    "Basically, we are making a Hubble Diagram -- a graph of distance versus redshift. We already have redshift, so we're good there. But we don't have distance. (Distances are actually a really hard thing to find in astronomy!) \n",
    "\n",
    "What we do have is magnitude -- how bright the galaxy is. From this we can get relative distance -- galaxies farther away should be dimmer, right? Kinda. Write below what assumptions this logic is built on:"
   ]
  },
  {
   "cell_type": "markdown",
   "metadata": {},
   "source": [
    "Assumptions:\n",
    "    \n"
   ]
  },
  {
   "cell_type": "markdown",
   "metadata": {},
   "source": [
    "### When you get here take a break and come see me and we'll go over the assumptions, and talk a little more about redshift and another distance method that relies on what are called \"standard candles\"!"
   ]
  },
  {
   "cell_type": "markdown",
   "metadata": {},
   "source": [
    "To convert the magnitudes we have --synthR -- to distances, we have to first stop over at flux (relative flux, that is), using the formula:\n",
    "\n",
    "Flux = 2.5^(-Magnitude)\n",
    "\n",
    "See if you can figure out how to do an operation like this using numpy! \n",
    "\n",
    "Once you figure this out, we need to \n",
    "1) make a column where we apply this operation to every row of 'synthR' -- our magnitudes\n",
    "2) name this column, and\n",
    "3) add this column to our table\n",
    "\n",
    "We can do this all with one line, using an attribute of Table called \"add_column\"\n",
    "\n",
    "table_name.add_column(Column(**your operation using table_name['synthR'] goes here**, name = 'flux']\n",
    "\n",
    "Use the cell below to do this."
   ]
  },
  {
   "cell_type": "code",
   "execution_count": null,
   "metadata": {
    "collapsed": true
   },
   "outputs": [],
   "source": [
    "# add flux column\n",
    "\n"
   ]
  },
  {
   "cell_type": "markdown",
   "metadata": {},
   "source": [
    "Now we do the exact same thing, but now we're going from relative flux to relative distance. This uses the formula\"\n",
    "\n",
    "Relative distance = 1 / sqrt(Flux)\n",
    "\n",
    "Add a column to our table for relative distance, and name it rel_dist."
   ]
  },
  {
   "cell_type": "code",
   "execution_count": null,
   "metadata": {
    "collapsed": false
   },
   "outputs": [],
   "source": [
    "# add relative distance column\n",
    "\n"
   ]
  },
  {
   "cell_type": "markdown",
   "metadata": {},
   "source": [
    "Use the cell below to look at your table again. Are the new columns there?"
   ]
  },
  {
   "cell_type": "code",
   "execution_count": null,
   "metadata": {
    "collapsed": true
   },
   "outputs": [],
   "source": [
    "# print table\n",
    "\n"
   ]
  },
  {
   "cell_type": "markdown",
   "metadata": {},
   "source": [
    "Now we're going to plot our relative distances versus redshift using matplotlib.pyplot (which we've imported as just plt so we don't have to type that whole thing out every time). Put relative distance on the x-axis, and redshift on the y-axis. Label your axes! \n",
    "\n",
    "Here's a pyplot reference: https://matplotlib.org/users/pyplot_tutorial.html\n",
    "\n",
    "And if you get stuck just let me know!"
   ]
  },
  {
   "cell_type": "code",
   "execution_count": null,
   "metadata": {
    "collapsed": true
   },
   "outputs": [],
   "source": [
    "# plot redshift versus distance\n",
    "\n"
   ]
  },
  {
   "cell_type": "markdown",
   "metadata": {},
   "source": [
    "What's the general trend? Remember what redshift means -- what does this tell us about the relationship between distance and recession speed?\n",
    "\n",
    "Answer: \n",
    "\n",
    "With better data this relationship would be more linear. What do you think is introducing such large errors?\n",
    "\n",
    "Answer:\n",
    "\n"
   ]
  },
  {
   "cell_type": "markdown",
   "metadata": {},
   "source": [
    "Now we're going to cheat a bit. Since our y-axis is relative distance, our slope has meaningless units. But we also have \"actual\" distances to these galaxies in our table (by the end of the Notebook you'll understand why it would have been redudant to use these distances from the start). What we can do is \"normalize\" our relative distances with our lumDist values. \n",
    "\n",
    "There's no reason to prefer one ratio over any of the others, so let's just use the first! Remember, you can call a specific row of our table like this:\n",
    "\n",
    "1st row of lumDist column: your_table_name['lumDist'][1]\n",
    "1st row of rel_dist column: your_table_name['rel_dist'][1]\n",
    "\n",
    "If we multiply every entry in our relative distance column by this \"conversion factor\", then we should end up with real distances with physically meaningful distances.\n",
    "\n",
    "Add a column to our table where we do this^. Name it 'dist'. This is a little confusing so come see me if you're having problems!"
   ]
  },
  {
   "cell_type": "code",
   "execution_count": null,
   "metadata": {
    "collapsed": true
   },
   "outputs": [],
   "source": [
    "# add distance column. print your table to make sure it's there\n",
    "\n"
   ]
  },
  {
   "cell_type": "markdown",
   "metadata": {},
   "source": [
    "Since we're already cheating, we might as well go all the way. Next, we're going to use a for loop to get rid of all of our galaxies that have calculated distances too far from their 'actual' values. What types of galaxies do we expect to be deleted when we do this?\n",
    "\n",
    "Answer:\n",
    "\n"
   ]
  },
  {
   "cell_type": "markdown",
   "metadata": {},
   "source": [
    "Let's say that we'll get rid of galaxies with distances less than half or more than twice their lumDist value. Use a for loop to delete rows that have distances outside these ranges.\n",
    "\n",
    "Here's a few things you might need for this. \n",
    "-You want the range of your for loop to be the entire set. But since it starts numbering at 0, you want to start iterating at 0 and finish at length - 1. Also, len() will give you the length of a data set -- a good thing to use for for loops so that your code will still work if you change the length of the data you're working with.\n",
    "-name_of_you_table.remove_row(i) will delete the ith row\n",
    "\n",
    "So iterate through our table, removing a row if it has a dist less than 0.5 * lumDist or greater than 2 * lumDist!"
   ]
  },
  {
   "cell_type": "code",
   "execution_count": null,
   "metadata": {
    "collapsed": true
   },
   "outputs": [],
   "source": [
    "# for loop\n",
    "\n"
   ]
  },
  {
   "cell_type": "markdown",
   "metadata": {},
   "source": [
    "How many rows did we delete? \n",
    "\n",
    "Answer:\n",
    "\n"
   ]
  },
  {
   "cell_type": "code",
   "execution_count": 74,
   "metadata": {
    "collapsed": false
   },
   "outputs": [],
   "source": [
    "# find new length of table\n",
    "\n"
   ]
  },
  {
   "cell_type": "markdown",
   "metadata": {},
   "source": [
    "Two more things: \n",
    "\n",
    "First, plot the new data! Does it look better?\n",
    "\n",
    "Next, let's find the slope of a line of best fit for this graph! We're going to use the stats package. The code should look like this:\n",
    "\n",
    "stats.linregress(x,y)\n",
    "\n",
    "Multiply the redshift value by 300,000 to convert it from redshift (unitless) to recession speed. (You can just do 300,000 * your_table['z'] in the plt.plot argument.)\n",
    "\n",
    "Where does the 300,000 come from? What units will this make our recession speed?\n",
    "\n",
    "Answer:\n",
    "\n"
   ]
  },
  {
   "cell_type": "code",
   "execution_count": 77,
   "metadata": {
    "collapsed": false
   },
   "outputs": [],
   "source": [
    "# make a new plot\n",
    "\n"
   ]
  },
  {
   "cell_type": "code",
   "execution_count": null,
   "metadata": {
    "collapsed": true
   },
   "outputs": [],
   "source": [
    "# find the slope of the line of best fit"
   ]
  },
  {
   "cell_type": "markdown",
   "metadata": {},
   "source": [
    "The first output is the slope! What value did you get? What are the units?\n",
    "\n",
    "Answer:\n",
    "\n"
   ]
  }
 ],
 "metadata": {
  "kernelspec": {
   "display_name": "Python 2",
   "language": "python",
   "name": "python2"
  },
  "language_info": {
   "codemirror_mode": {
    "name": "ipython",
    "version": 2
   },
   "file_extension": ".py",
   "mimetype": "text/x-python",
   "name": "python",
   "nbconvert_exporter": "python",
   "pygments_lexer": "ipython2",
   "version": "2.7.13"
  }
 },
 "nbformat": 4,
 "nbformat_minor": 0
}
