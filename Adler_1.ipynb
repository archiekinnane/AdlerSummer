{
 "cells": [
  {
   "cell_type": "code",
   "execution_count": 1,
   "metadata": {
    "collapsed": false
   },
   "outputs": [],
   "source": [
    "from astropy.io import fits\n",
    "import matplotlib.pyplot as plt\n",
    "from astropy import units as u\n",
    "from astropy.coordinates import SkyCoord\n",
    "from astropy.coordinates import Distance, Angle\n",
    "from astropy.table import Table, Column\n",
    "from astropy.io import ascii\n",
    "import seaborn as sns\n",
    "from astropy.cosmology import Planck13\n",
    "sns.set()\n",
    "%matplotlib inline"
   ]
  },
  {
   "cell_type": "markdown",
   "metadata": {},
   "source": [
    "First we have to query our data from SDSS using CasJobs. Looking at the database we can see all the different parameters that are available to be queried. We will download the ones necessary to locate its position (RA, Dec, and redshift -- which will give us distance), and some properties of the galaxies, like spectro_Flux_g / r / i (flux in g / r / i band), elodieBV (BV color), and elodieFeH (metallicity). The following SQL script will select these data for us.\n",
    "```\n",
    "SELECT gz.ra,gz.dec,sp.z,sp.spectroFlux_g as g, sp.spectroFlux_r as r, \n",
    "  sp. spectroFlux_i as i, sp.elodieBV as BV, \n",
    "  sp.elodieFeH as FeH into mydb.galaxydata from DR10.zooSpec as gz \n",
    "  JOIN  DR8.specObjAll as sp on sp.specobjid=gz.specobjid\n",
    "WHERE sp.zWarning=0 and sp.z >0.0005\n",
    "```\n",
    "Then download the table: galaxydata_archiekinnane.fit. This file is also on my GitHub."
   ]
  },
  {
   "cell_type": "markdown",
   "metadata": {},
   "source": [
    "We open, inspect, and read in the data from the fits file. We see that all of our columns made it in."
   ]
  },
  {
   "cell_type": "code",
   "execution_count": 3,
   "metadata": {
    "collapsed": false
   },
   "outputs": [
    {
     "name": "stdout",
     "output_type": "stream",
     "text": [
      "Filename: galaxydata_archiekinnane.fit\n",
      "No.    Name         Type      Cards   Dimensions   Format\n",
      "0    PRIMARY     PrimaryHDU       4   ()              \n",
      "1                BinTableHDU     24   665225R x 8C   [1E, 1E, 1E, 1E, 1E, 1E, 1E, 1E]   \n",
      "ColDefs(\n",
      "    name = 'ra'; format = '1E'\n",
      "    name = 'dec'; format = '1E'\n",
      "    name = 'z'; format = '1E'\n",
      "    name = 'g'; format = '1E'\n",
      "    name = 'r'; format = '1E'\n",
      "    name = 'i'; format = '1E'\n",
      "    name = 'BV'; format = '1E'\n",
      "    name = 'FeH'; format = '1E'\n",
      ")\n"
     ]
    }
   ],
   "source": [
    "hdu1 = fits.open(\"galaxydata_archiekinnane.fit\")\n",
    "hdu1.info()\n",
    "print(hdu1[1].columns)"
   ]
  },
  {
   "cell_type": "markdown",
   "metadata": {},
   "source": [
    "Let's put it in a neat astropy Table and take a look at what we have."
   ]
  },
  {
   "cell_type": "code",
   "execution_count": 4,
   "metadata": {
    "collapsed": true
   },
   "outputs": [],
   "source": [
    "from astropy.table import Table\n",
    "galaxies = Table(hdu1[1].data)"
   ]
  },
  {
   "cell_type": "code",
   "execution_count": 5,
   "metadata": {
    "collapsed": false
   },
   "outputs": [
    {
     "data": {
      "text/html": [
       "&lt;Table masked=False length=665225&gt;\n",
       "<table id=\"table4588889552\">\n",
       "<thead><tr><th>ra</th><th>dec</th><th>z</th><th>g</th><th>r</th><th>i</th><th>BV</th><th>FeH</th></tr></thead>\n",
       "<thead><tr><th>float32</th><th>float32</th><th>float32</th><th>float32</th><th>float32</th><th>float32</th><th>float32</th><th>float32</th></tr></thead>\n",
       "<tr><td>146.86</td><td>-0.808917</td><td>0.126554</td><td>9.64814</td><td>35.3431</td><td>66.2469</td><td>0.0</td><td>0.0</td></tr>\n",
       "<tr><td>146.964</td><td>-0.545028</td><td>0.0559879</td><td>9.88405</td><td>19.0224</td><td>29.3057</td><td>0.0</td><td>0.0</td></tr>\n",
       "<tr><td>146.728</td><td>-0.556861</td><td>0.0893375</td><td>20.536</td><td>58.9509</td><td>95.6222</td><td>0.0</td><td>0.0</td></tr>\n",
       "<tr><td>146.744</td><td>-0.652222</td><td>0.203769</td><td>9.25698</td><td>34.4419</td><td>58.6414</td><td>0.0</td><td>0.0</td></tr>\n",
       "<tr><td>146.593</td><td>-0.76025</td><td>0.0650235</td><td>26.572</td><td>52.4444</td><td>75.2112</td><td>0.0</td><td>0.0</td></tr>\n",
       "<tr><td>146.934</td><td>-0.670417</td><td>0.121316</td><td>25.8561</td><td>76.4256</td><td>120.614</td><td>0.0</td><td>0.0</td></tr>\n",
       "<tr><td>146.95</td><td>-0.592222</td><td>0.0647767</td><td>16.542</td><td>32.7794</td><td>48.2095</td><td>0.0</td><td>0.0</td></tr>\n",
       "<tr><td>146.629</td><td>-0.765139</td><td>0.0645888</td><td>30.3439</td><td>72.8277</td><td>114.546</td><td>0.0</td><td>0.0</td></tr>\n",
       "<tr><td>146.858</td><td>-0.662889</td><td>0.0843962</td><td>5.83184</td><td>12.3399</td><td>17.2829</td><td>0.0</td><td>0.0</td></tr>\n",
       "<tr><td>146.964</td><td>-0.759333</td><td>0.0970415</td><td>20.1949</td><td>47.6539</td><td>70.6021</td><td>0.0</td><td>0.0</td></tr>\n",
       "<tr><td>...</td><td>...</td><td>...</td><td>...</td><td>...</td><td>...</td><td>...</td><td>...</td></tr>\n",
       "<tr><td>257.386</td><td>34.5163</td><td>0.0775828</td><td>41.1986</td><td>106.816</td><td>165.252</td><td>0.0</td><td>0.0</td></tr>\n",
       "<tr><td>257.203</td><td>34.2979</td><td>0.0906681</td><td>37.9696</td><td>100.11</td><td>151.52</td><td>0.0</td><td>0.0</td></tr>\n",
       "<tr><td>257.152</td><td>34.4557</td><td>0.0814887</td><td>48.11</td><td>122.862</td><td>188.393</td><td>0.0</td><td>0.0</td></tr>\n",
       "<tr><td>257.285</td><td>34.4179</td><td>0.0850358</td><td>30.6254</td><td>75.0784</td><td>111.045</td><td>0.0</td><td>0.0</td></tr>\n",
       "<tr><td>256.566</td><td>35.417</td><td>0.0367457</td><td>25.1671</td><td>40.6719</td><td>54.7791</td><td>0.0</td><td>0.0</td></tr>\n",
       "<tr><td>256.751</td><td>34.8848</td><td>0.0892113</td><td>40.3557</td><td>104.411</td><td>160.491</td><td>0.0</td><td>0.0</td></tr>\n",
       "<tr><td>256.774</td><td>34.9533</td><td>0.107195</td><td>50.3928</td><td>123.9</td><td>184.061</td><td>0.0</td><td>0.0</td></tr>\n",
       "<tr><td>256.047</td><td>35.8907</td><td>0.0625572</td><td>47.8652</td><td>85.0921</td><td>126.436</td><td>0.0</td><td>0.0</td></tr>\n",
       "<tr><td>256.096</td><td>35.9654</td><td>0.0635734</td><td>57.5093</td><td>142.116</td><td>209.123</td><td>0.0</td><td>0.0</td></tr>\n",
       "<tr><td>260.125</td><td>29.9229</td><td>0.122983</td><td>18.3348</td><td>44.4602</td><td>66.6468</td><td>0.0</td><td>0.0</td></tr>\n",
       "</table>"
      ],
      "text/plain": [
       "<Table masked=False length=665225>\n",
       "   ra      dec        z        g       r       i       BV     FeH  \n",
       "float32  float32   float32  float32 float32 float32 float32 float32\n",
       "------- --------- --------- ------- ------- ------- ------- -------\n",
       " 146.86 -0.808917  0.126554 9.64814 35.3431 66.2469     0.0     0.0\n",
       "146.964 -0.545028 0.0559879 9.88405 19.0224 29.3057     0.0     0.0\n",
       "146.728 -0.556861 0.0893375  20.536 58.9509 95.6222     0.0     0.0\n",
       "146.744 -0.652222  0.203769 9.25698 34.4419 58.6414     0.0     0.0\n",
       "146.593  -0.76025 0.0650235  26.572 52.4444 75.2112     0.0     0.0\n",
       "146.934 -0.670417  0.121316 25.8561 76.4256 120.614     0.0     0.0\n",
       " 146.95 -0.592222 0.0647767  16.542 32.7794 48.2095     0.0     0.0\n",
       "146.629 -0.765139 0.0645888 30.3439 72.8277 114.546     0.0     0.0\n",
       "146.858 -0.662889 0.0843962 5.83184 12.3399 17.2829     0.0     0.0\n",
       "146.964 -0.759333 0.0970415 20.1949 47.6539 70.6021     0.0     0.0\n",
       "    ...       ...       ...     ...     ...     ...     ...     ...\n",
       "257.386   34.5163 0.0775828 41.1986 106.816 165.252     0.0     0.0\n",
       "257.203   34.2979 0.0906681 37.9696  100.11  151.52     0.0     0.0\n",
       "257.152   34.4557 0.0814887   48.11 122.862 188.393     0.0     0.0\n",
       "257.285   34.4179 0.0850358 30.6254 75.0784 111.045     0.0     0.0\n",
       "256.566    35.417 0.0367457 25.1671 40.6719 54.7791     0.0     0.0\n",
       "256.751   34.8848 0.0892113 40.3557 104.411 160.491     0.0     0.0\n",
       "256.774   34.9533  0.107195 50.3928   123.9 184.061     0.0     0.0\n",
       "256.047   35.8907 0.0625572 47.8652 85.0921 126.436     0.0     0.0\n",
       "256.096   35.9654 0.0635734 57.5093 142.116 209.123     0.0     0.0\n",
       "260.125   29.9229  0.122983 18.3348 44.4602 66.6468     0.0     0.0"
      ]
     },
     "execution_count": 5,
     "metadata": {},
     "output_type": "execute_result"
    }
   ],
   "source": [
    "galaxies"
   ]
  },
  {
   "cell_type": "markdown",
   "metadata": {},
   "source": [
    "Next, we want to convert our redshifts into distances using an astropy method called Planck13.comoving_distance. \n",
    "\n",
    "There are a few ways to calculate distances. Lookback-time distance is how long it took the light we are seeing to reach us. Luminosity distance is the distance -- found using inverse square law -- that the galaxies would emit at their observed brightness. Comoving distances scale out the expansion of the universe. If we were able to stop the expansion of the universe and go and measure the distance to galaxies that is what we would get.\n",
    "\n",
    "We also convert our RA (in degrees) into an RA in hours by dividing by 15, just to have it. We add these columns to our table."
   ]
  },
  {
   "cell_type": "code",
   "execution_count": 6,
   "metadata": {
    "collapsed": false
   },
   "outputs": [],
   "source": [
    "galaxies.add_column(Column(Planck13.comoving_distance(galaxies['z']),name='distance'))\n",
    "galaxies.add_column(Column(galaxies['ra']/15.,name='ra_h'))"
   ]
  },
  {
   "cell_type": "markdown",
   "metadata": {},
   "source": [
    "We also want to create a column of coordinate distances, which will make it much easier to convert between coordinate systems later. We use the astropy method SkyCoord to create this column of objects. You can input 'locations' to SkyCoord using whatever coordinate system you currently have your data in -- for us, that means RA, Dec, and comoving distance. Then, you just have to specify what it is that you gave SkyCoord, which we do using \"frame = 'icrs'\", which is basically the J2000 equatorial frame -- what our RA and Dec values are referential to."
   ]
  },
  {
   "cell_type": "code",
   "execution_count": 7,
   "metadata": {
    "collapsed": false
   },
   "outputs": [],
   "source": [
    "coordsCol=SkyCoord(galaxies['ra'],galaxies['dec'],unit=(u.degree, u.degree),distance=Distance(galaxies['distance'],u.pc),frame='icrs')"
   ]
  },
  {
   "cell_type": "markdown",
   "metadata": {},
   "source": [
    "And write a VOtable, a standard format for astronomical catalog data."
   ]
  },
  {
   "cell_type": "code",
   "execution_count": 13,
   "metadata": {
    "collapsed": true
   },
   "outputs": [],
   "source": [
    "galaxies.write('galaxydata.xml',format='votable')"
   ]
  },
  {
   "cell_type": "markdown",
   "metadata": {},
   "source": [
    "Now let's plot our galaxies on the sky and see where"
   ]
  },
  {
   "cell_type": "code",
   "execution_count": 9,
   "metadata": {
    "collapsed": false
   },
   "outputs": [],
   "source": [
    "#plt.figure(figsize=(8,4.2))\n",
    "#plt.subplot(111, projection=\"aitoff\")\n",
    "#plt.scatter(ra_rad, dec_rad)\n",
    "#plt.grid(True)\n",
    "#plt.subplot()"
   ]
  },
  {
   "cell_type": "code",
   "execution_count": 10,
   "metadata": {
    "collapsed": false
   },
   "outputs": [
    {
     "data": {
      "text/plain": [
       "<matplotlib.collections.PathCollection at 0x1169fab10>"
      ]
     },
     "execution_count": 10,
     "metadata": {},
     "output_type": "execute_result"
    },
    {
     "data": {
      "image/png": "[encoded data removed]",
      "text/plain": [
       "<matplotlib.figure.Figure at 0x11637d510>"
      ]
     },
     "metadata": {},
     "output_type": "display_data"
    }
   ],
   "source": [
    "#plt.scatter(coordsCol.dec.rad, coordsCol.distance)"
   ]
  },
  {
   "cell_type": "code",
   "execution_count": 12,
   "metadata": {
    "collapsed": false
   },
   "outputs": [
    {
     "name": "stdout",
     "output_type": "stream",
     "text": [
      "<SkyCoord (ICRS): (ra, dec, distance) in (deg, deg, pc)\n",
      "    (146.96391296, -0.54502779, 244428333.6000073)>\n",
      "<SkyCoord (Galactic): (l, b, distance) in (deg, deg, pc)\n",
      "    (237.33751746, 37.95468424, 244428333.60000727)>\n"
     ]
    }
   ],
   "source": [
    "print coordsCol[1]\n",
    "print coordsCol[1].galactic"
   ]
  },
  {
   "cell_type": "code",
   "execution_count": null,
   "metadata": {
    "collapsed": true
   },
   "outputs": [],
   "source": []
  }
 ],
 "metadata": {
  "kernelspec": {
   "display_name": "Python 2",
   "language": "python",
   "name": "python2"
  },
  "language_info": {
   "codemirror_mode": {
    "name": "ipython",
    "version": 2
   },
   "file_extension": ".py",
   "mimetype": "text/x-python",
   "name": "python",
   "nbconvert_exporter": "python",
   "pygments_lexer": "ipython2",
   "version": "2.7.13"
  }
 },
 "nbformat": 4,
 "nbformat_minor": 0
}
