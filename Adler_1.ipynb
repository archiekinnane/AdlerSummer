{
 "cells": [
  {
   "cell_type": "code",
   "execution_count": 1,
   "metadata": {
    "collapsed": false
   },
   "outputs": [],
   "source": [
    "from astropy.io import fits\n",
    "import matplotlib.pyplot as plt\n",
    "from astropy import units as u\n",
    "from astropy.coordinates import SkyCoord\n",
    "from astropy.coordinates import Distance, Angle\n",
    "from astropy.table import Table, Column\n",
    "from astropy.io import ascii\n",
    "#import xml.etree.ElementTree as ET, urllib.request, gzip, io\n",
    "%matplotlib inline"
   ]
  },
  {
   "cell_type": "markdown",
   "metadata": {},
   "source": [
    "First we have to query our data from SDSS using CasJobs. Looking at the database we can see all the different parameters that are available to be queried. We will download the ones necessary to locate its position (RA, Dec, and redshift -- which will give us distance), and some properties of the galaxies, like spectro_Flux_g / r / i (flux in g / r / i band), elodieBV (BV color), and elodieFeH (metallicity). The following SQL script will select these data for us.\n",
    "\n",
    "SELECT gz.ra,gz.dec,sp.z,sp.spectroFlux_g as g, sp.spectroFlux_r as r, \n",
    "  sp. spectroFlux_i as i, sp.elodieBV as BV, \n",
    "  sp.elodieFeH as FeH into mydb.galaxydata from DR10.zooSpec as gz \n",
    "  JOIN  DR8.specObjAll as sp on sp.specobjid=gz.specobjid\n",
    "WHERE sp.zWarning=0 and sp.z >0.0005\n",
    "\n",
    "Then download the table: galaxydata_archiekinnane.fit. This file is also on my GitHub."
   ]
  },
  {
   "cell_type": "code",
   "execution_count": 14,
   "metadata": {
    "collapsed": false
   },
   "outputs": [
    {
     "name": "stdout",
     "output_type": "stream",
     "text": [
      "/Users/archiekinnane/Downloads\n"
     ]
    }
   ],
   "source": [
    "cd Downloads"
   ]
  },
  {
   "cell_type": "markdown",
   "metadata": {},
   "source": [
    "We open, inspect, and read in the data from the fits file. We see that all of our columns made it in."
   ]
  },
  {
   "cell_type": "code",
   "execution_count": 17,
   "metadata": {
    "collapsed": false
   },
   "outputs": [
    {
     "name": "stdout",
     "output_type": "stream",
     "text": [
      "Filename: galaxydata_archiekinnane.fit\n",
      "No.    Name         Type      Cards   Dimensions   Format\n",
      "0    PRIMARY     PrimaryHDU       4   ()              \n",
      "1                BinTableHDU     24   665225R x 8C   [1E, 1E, 1E, 1E, 1E, 1E, 1E, 1E]   \n",
      "ColDefs(\n",
      "    name = 'ra'; format = '1E'\n",
      "    name = 'dec'; format = '1E'\n",
      "    name = 'z'; format = '1E'\n",
      "    name = 'g'; format = '1E'\n",
      "    name = 'r'; format = '1E'\n",
      "    name = 'i'; format = '1E'\n",
      "    name = 'BV'; format = '1E'\n",
      "    name = 'FeH'; format = '1E'\n",
      ")\n"
     ]
    }
   ],
   "source": [
    "hdu1 = fits.open(\"galaxydata_archiekinnane.fit\")\n",
    "hdu1.info()\n",
    "print(hdu1[1].columns)"
   ]
  },
  {
   "cell_type": "markdown",
   "metadata": {},
   "source": [
    "Let's put it in a neat astropy Table and take a look at what we have."
   ]
  },
  {
   "cell_type": "code",
   "execution_count": 18,
   "metadata": {
    "collapsed": true
   },
   "outputs": [],
   "source": [
    "from astropy.table import Table\n",
    "galaxies = Table(hdu1[1].data)"
   ]
  },
  {
   "cell_type": "code",
   "execution_count": 19,
   "metadata": {
    "collapsed": false
   },
   "outputs": [
    {
     "data": {
      "text/html": [
       "&lt;Table masked=False length=665225&gt;\n",
       "<table id=\"table4366218960\">\n",
       "<thead><tr><th>ra</th><th>dec</th><th>z</th><th>g</th><th>r</th><th>i</th><th>BV</th><th>FeH</th></tr></thead>\n",
       "<thead><tr><th>float32</th><th>float32</th><th>float32</th><th>float32</th><th>float32</th><th>float32</th><th>float32</th><th>float32</th></tr></thead>\n",
       "<tr><td>146.86</td><td>-0.808917</td><td>0.126554</td><td>9.64814</td><td>35.3431</td><td>66.2469</td><td>0.0</td><td>0.0</td></tr>\n",
       "<tr><td>146.964</td><td>-0.545028</td><td>0.0559879</td><td>9.88405</td><td>19.0224</td><td>29.3057</td><td>0.0</td><td>0.0</td></tr>\n",
       "<tr><td>146.728</td><td>-0.556861</td><td>0.0893375</td><td>20.536</td><td>58.9509</td><td>95.6222</td><td>0.0</td><td>0.0</td></tr>\n",
       "<tr><td>146.744</td><td>-0.652222</td><td>0.203769</td><td>9.25698</td><td>34.4419</td><td>58.6414</td><td>0.0</td><td>0.0</td></tr>\n",
       "<tr><td>146.593</td><td>-0.76025</td><td>0.0650235</td><td>26.572</td><td>52.4444</td><td>75.2112</td><td>0.0</td><td>0.0</td></tr>\n",
       "<tr><td>146.934</td><td>-0.670417</td><td>0.121316</td><td>25.8561</td><td>76.4256</td><td>120.614</td><td>0.0</td><td>0.0</td></tr>\n",
       "<tr><td>146.95</td><td>-0.592222</td><td>0.0647767</td><td>16.542</td><td>32.7794</td><td>48.2095</td><td>0.0</td><td>0.0</td></tr>\n",
       "<tr><td>146.629</td><td>-0.765139</td><td>0.0645888</td><td>30.3439</td><td>72.8277</td><td>114.546</td><td>0.0</td><td>0.0</td></tr>\n",
       "<tr><td>146.858</td><td>-0.662889</td><td>0.0843962</td><td>5.83184</td><td>12.3399</td><td>17.2829</td><td>0.0</td><td>0.0</td></tr>\n",
       "<tr><td>146.964</td><td>-0.759333</td><td>0.0970415</td><td>20.1949</td><td>47.6539</td><td>70.6021</td><td>0.0</td><td>0.0</td></tr>\n",
       "<tr><td>...</td><td>...</td><td>...</td><td>...</td><td>...</td><td>...</td><td>...</td><td>...</td></tr>\n",
       "<tr><td>257.386</td><td>34.5163</td><td>0.0775828</td><td>41.1986</td><td>106.816</td><td>165.252</td><td>0.0</td><td>0.0</td></tr>\n",
       "<tr><td>257.203</td><td>34.2979</td><td>0.0906681</td><td>37.9696</td><td>100.11</td><td>151.52</td><td>0.0</td><td>0.0</td></tr>\n",
       "<tr><td>257.152</td><td>34.4557</td><td>0.0814887</td><td>48.11</td><td>122.862</td><td>188.393</td><td>0.0</td><td>0.0</td></tr>\n",
       "<tr><td>257.285</td><td>34.4179</td><td>0.0850358</td><td>30.6254</td><td>75.0784</td><td>111.045</td><td>0.0</td><td>0.0</td></tr>\n",
       "<tr><td>256.566</td><td>35.417</td><td>0.0367457</td><td>25.1671</td><td>40.6719</td><td>54.7791</td><td>0.0</td><td>0.0</td></tr>\n",
       "<tr><td>256.751</td><td>34.8848</td><td>0.0892113</td><td>40.3557</td><td>104.411</td><td>160.491</td><td>0.0</td><td>0.0</td></tr>\n",
       "<tr><td>256.774</td><td>34.9533</td><td>0.107195</td><td>50.3928</td><td>123.9</td><td>184.061</td><td>0.0</td><td>0.0</td></tr>\n",
       "<tr><td>256.047</td><td>35.8907</td><td>0.0625572</td><td>47.8652</td><td>85.0921</td><td>126.436</td><td>0.0</td><td>0.0</td></tr>\n",
       "<tr><td>256.096</td><td>35.9654</td><td>0.0635734</td><td>57.5093</td><td>142.116</td><td>209.123</td><td>0.0</td><td>0.0</td></tr>\n",
       "<tr><td>260.125</td><td>29.9229</td><td>0.122983</td><td>18.3348</td><td>44.4602</td><td>66.6468</td><td>0.0</td><td>0.0</td></tr>\n",
       "</table>"
      ],
      "text/plain": [
       "<Table masked=False length=665225>\n",
       "   ra      dec        z        g       r       i       BV     FeH  \n",
       "float32  float32   float32  float32 float32 float32 float32 float32\n",
       "------- --------- --------- ------- ------- ------- ------- -------\n",
       " 146.86 -0.808917  0.126554 9.64814 35.3431 66.2469     0.0     0.0\n",
       "146.964 -0.545028 0.0559879 9.88405 19.0224 29.3057     0.0     0.0\n",
       "146.728 -0.556861 0.0893375  20.536 58.9509 95.6222     0.0     0.0\n",
       "146.744 -0.652222  0.203769 9.25698 34.4419 58.6414     0.0     0.0\n",
       "146.593  -0.76025 0.0650235  26.572 52.4444 75.2112     0.0     0.0\n",
       "146.934 -0.670417  0.121316 25.8561 76.4256 120.614     0.0     0.0\n",
       " 146.95 -0.592222 0.0647767  16.542 32.7794 48.2095     0.0     0.0\n",
       "146.629 -0.765139 0.0645888 30.3439 72.8277 114.546     0.0     0.0\n",
       "146.858 -0.662889 0.0843962 5.83184 12.3399 17.2829     0.0     0.0\n",
       "146.964 -0.759333 0.0970415 20.1949 47.6539 70.6021     0.0     0.0\n",
       "    ...       ...       ...     ...     ...     ...     ...     ...\n",
       "257.386   34.5163 0.0775828 41.1986 106.816 165.252     0.0     0.0\n",
       "257.203   34.2979 0.0906681 37.9696  100.11  151.52     0.0     0.0\n",
       "257.152   34.4557 0.0814887   48.11 122.862 188.393     0.0     0.0\n",
       "257.285   34.4179 0.0850358 30.6254 75.0784 111.045     0.0     0.0\n",
       "256.566    35.417 0.0367457 25.1671 40.6719 54.7791     0.0     0.0\n",
       "256.751   34.8848 0.0892113 40.3557 104.411 160.491     0.0     0.0\n",
       "256.774   34.9533  0.107195 50.3928   123.9 184.061     0.0     0.0\n",
       "256.047   35.8907 0.0625572 47.8652 85.0921 126.436     0.0     0.0\n",
       "256.096   35.9654 0.0635734 57.5093 142.116 209.123     0.0     0.0\n",
       "260.125   29.9229  0.122983 18.3348 44.4602 66.6468     0.0     0.0"
      ]
     },
     "execution_count": 19,
     "metadata": {},
     "output_type": "execute_result"
    }
   ],
   "source": [
    "galaxies"
   ]
  },
  {
   "cell_type": "markdown",
   "metadata": {},
   "source": [
    "Next, we want to convert our redshifts into distances using an astropy method called Planck13.comoving_distance. \n",
    "\n",
    "There are a few ways to calculate distances. Lookback-time distance is how long it took the light we are seeing to reach us. Luminosity distance is the distance -- found using inverse square law -- that the galaxies would emit at their observed brightness. Comoving distances scale out the expansion of the universe. If we were able to stop the expansion of the universe and go and measure the distance to galaxies that is what we would get.\n",
    "\n",
    "We also convert our RA (in degrees) into an RA in hours by dividing by 15, just to have it. We add these columns to our table."
   ]
  },
  {
   "cell_type": "code",
   "execution_count": 20,
   "metadata": {
    "collapsed": false
   },
   "outputs": [],
   "source": [
    "from astropy.cosmology import Planck13\n",
    "galaxies.add_column(Column(Planck13.comoving_distance(galaxies['z']),name='distance'))\n",
    "galaxies.add_column(Column(galaxies['ra']/15.,name='ra_h'))"
   ]
  },
  {
   "cell_type": "markdown",
   "metadata": {},
   "source": [
    "Let's check out our updated table!"
   ]
  },
  {
   "cell_type": "code",
   "execution_count": 21,
   "metadata": {
    "collapsed": false
   },
   "outputs": [
    {
     "data": {
      "text/html": [
       "&lt;Table masked=False length=665225&gt;\n",
       "<table id=\"table4366218960\">\n",
       "<thead><tr><th>ra</th><th>dec</th><th>z</th><th>g</th><th>r</th><th>i</th><th>BV</th><th>FeH</th><th>distance</th><th>ra_h</th></tr></thead>\n",
       "<thead><tr><th></th><th></th><th></th><th></th><th></th><th></th><th></th><th></th><th>Mpc</th><th></th></tr></thead>\n",
       "<thead><tr><th>float32</th><th>float32</th><th>float32</th><th>float32</th><th>float32</th><th>float32</th><th>float32</th><th>float32</th><th>float64</th><th>float32</th></tr></thead>\n",
       "<tr><td>146.86</td><td>-0.808917</td><td>0.126554</td><td>9.64814</td><td>35.3431</td><td>66.2469</td><td>0.0</td><td>0.0</td><td>543.076903932</td><td>9.79066</td></tr>\n",
       "<tr><td>146.964</td><td>-0.545028</td><td>0.0559879</td><td>9.88405</td><td>19.0224</td><td>29.3057</td><td>0.0</td><td>0.0</td><td>244.4283336</td><td>9.79759</td></tr>\n",
       "<tr><td>146.728</td><td>-0.556861</td><td>0.0893375</td><td>20.536</td><td>58.9509</td><td>95.6222</td><td>0.0</td><td>0.0</td><td>386.895434145</td><td>9.78186</td></tr>\n",
       "<tr><td>146.744</td><td>-0.652222</td><td>0.203769</td><td>9.25698</td><td>34.4419</td><td>58.6414</td><td>0.0</td><td>0.0</td><td>857.573560326</td><td>9.78294</td></tr>\n",
       "<tr><td>146.593</td><td>-0.76025</td><td>0.0650235</td><td>26.572</td><td>52.4444</td><td>75.2112</td><td>0.0</td><td>0.0</td><td>283.260882521</td><td>9.77285</td></tr>\n",
       "<tr><td>146.934</td><td>-0.670417</td><td>0.121316</td><td>25.8561</td><td>76.4256</td><td>120.614</td><td>0.0</td><td>0.0</td><td>521.278177231</td><td>9.79561</td></tr>\n",
       "<tr><td>146.95</td><td>-0.592222</td><td>0.0647767</td><td>16.542</td><td>32.7794</td><td>48.2095</td><td>0.0</td><td>0.0</td><td>282.202275943</td><td>9.79667</td></tr>\n",
       "<tr><td>146.629</td><td>-0.765139</td><td>0.0645888</td><td>30.3439</td><td>72.8277</td><td>114.546</td><td>0.0</td><td>0.0</td><td>281.396444611</td><td>9.77524</td></tr>\n",
       "<tr><td>146.858</td><td>-0.662889</td><td>0.0843962</td><td>5.83184</td><td>12.3399</td><td>17.2829</td><td>0.0</td><td>0.0</td><td>365.935899391</td><td>9.79051</td></tr>\n",
       "<tr><td>...</td><td>...</td><td>...</td><td>...</td><td>...</td><td>...</td><td>...</td><td>...</td><td>...</td><td>...</td></tr>\n",
       "<tr><td>257.386</td><td>34.5163</td><td>0.0775828</td><td>41.1986</td><td>106.816</td><td>165.252</td><td>0.0</td><td>0.0</td><td>336.94991821</td><td>17.159</td></tr>\n",
       "<tr><td>257.203</td><td>34.2979</td><td>0.0906681</td><td>37.9696</td><td>100.11</td><td>151.52</td><td>0.0</td><td>0.0</td><td>392.530653907</td><td>17.1468</td></tr>\n",
       "<tr><td>257.152</td><td>34.4557</td><td>0.0814887</td><td>48.11</td><td>122.862</td><td>188.393</td><td>0.0</td><td>0.0</td><td>353.578456695</td><td>17.1434</td></tr>\n",
       "<tr><td>257.285</td><td>34.4179</td><td>0.0850358</td><td>30.6254</td><td>75.0784</td><td>111.045</td><td>0.0</td><td>0.0</td><td>368.651704599</td><td>17.1524</td></tr>\n",
       "<tr><td>256.566</td><td>35.417</td><td>0.0367457</td><td>25.1671</td><td>40.6719</td><td>54.7791</td><td>0.0</td><td>0.0</td><td>161.158549575</td><td>17.1044</td></tr>\n",
       "<tr><td>256.751</td><td>34.8848</td><td>0.0892113</td><td>40.3557</td><td>104.411</td><td>160.491</td><td>0.0</td><td>0.0</td><td>386.360751528</td><td>17.1168</td></tr>\n",
       "<tr><td>256.774</td><td>34.9533</td><td>0.107195</td><td>50.3928</td><td>123.9</td><td>184.061</td><td>0.0</td><td>0.0</td><td>462.2065288</td><td>17.1183</td></tr>\n",
       "<tr><td>256.047</td><td>35.8907</td><td>0.0625572</td><td>47.8652</td><td>85.0921</td><td>126.436</td><td>0.0</td><td>0.0</td><td>272.678389091</td><td>17.0698</td></tr>\n",
       "<tr><td>256.096</td><td>35.9654</td><td>0.0635734</td><td>57.5093</td><td>142.116</td><td>209.123</td><td>0.0</td><td>0.0</td><td>277.040442212</td><td>17.0731</td></tr>\n",
       "<tr><td>260.125</td><td>29.9229</td><td>0.122983</td><td>18.3348</td><td>44.4602</td><td>66.6468</td><td>0.0</td><td>0.0</td><td>528.223054479</td><td>17.3417</td></tr>\n",
       "</table>"
      ],
      "text/plain": [
       "<Table masked=False length=665225>\n",
       "   ra      dec        z        g    ...    BV     FeH      distance     ra_h \n",
       "                                    ...                      Mpc             \n",
       "float32  float32   float32  float32 ... float32 float32    float64    float32\n",
       "------- --------- --------- ------- ... ------- ------- ------------- -------\n",
       " 146.86 -0.808917  0.126554 9.64814 ...     0.0     0.0 543.076903932 9.79066\n",
       "146.964 -0.545028 0.0559879 9.88405 ...     0.0     0.0   244.4283336 9.79759\n",
       "146.728 -0.556861 0.0893375  20.536 ...     0.0     0.0 386.895434145 9.78186\n",
       "146.744 -0.652222  0.203769 9.25698 ...     0.0     0.0 857.573560326 9.78294\n",
       "146.593  -0.76025 0.0650235  26.572 ...     0.0     0.0 283.260882521 9.77285\n",
       "146.934 -0.670417  0.121316 25.8561 ...     0.0     0.0 521.278177231 9.79561\n",
       " 146.95 -0.592222 0.0647767  16.542 ...     0.0     0.0 282.202275943 9.79667\n",
       "146.629 -0.765139 0.0645888 30.3439 ...     0.0     0.0 281.396444611 9.77524\n",
       "146.858 -0.662889 0.0843962 5.83184 ...     0.0     0.0 365.935899391 9.79051\n",
       "    ...       ...       ...     ... ...     ...     ...           ...     ...\n",
       "257.386   34.5163 0.0775828 41.1986 ...     0.0     0.0  336.94991821  17.159\n",
       "257.203   34.2979 0.0906681 37.9696 ...     0.0     0.0 392.530653907 17.1468\n",
       "257.152   34.4557 0.0814887   48.11 ...     0.0     0.0 353.578456695 17.1434\n",
       "257.285   34.4179 0.0850358 30.6254 ...     0.0     0.0 368.651704599 17.1524\n",
       "256.566    35.417 0.0367457 25.1671 ...     0.0     0.0 161.158549575 17.1044\n",
       "256.751   34.8848 0.0892113 40.3557 ...     0.0     0.0 386.360751528 17.1168\n",
       "256.774   34.9533  0.107195 50.3928 ...     0.0     0.0   462.2065288 17.1183\n",
       "256.047   35.8907 0.0625572 47.8652 ...     0.0     0.0 272.678389091 17.0698\n",
       "256.096   35.9654 0.0635734 57.5093 ...     0.0     0.0 277.040442212 17.0731\n",
       "260.125   29.9229  0.122983 18.3348 ...     0.0     0.0 528.223054479 17.3417"
      ]
     },
     "execution_count": 21,
     "metadata": {},
     "output_type": "execute_result"
    }
   ],
   "source": [
    "galaxies"
   ]
  },
  {
   "cell_type": "markdown",
   "metadata": {},
   "source": [
    "We also want to create a column of coordinate distances, which will make it much easier to convert between coordinate systems later. We use the astropy method SkyCoord to create this column of objects. You can input 'locations' to SkyCoord using whatever coordinate system you currently have your data in -- for us, that means RA, Dec, and comoving distance. Then, you just have to specify what it is that you gave SkyCoord, which we do using \"frame = 'icrs'\", which is basically the J2000 equatorial frame -- what our RA and Dec values are referential to.\n",
    "\n",
    "Once we make this column, we add it to our table also."
   ]
  },
  {
   "cell_type": "code",
   "execution_count": null,
   "metadata": {
    "collapsed": false
   },
   "outputs": [],
   "source": [
    "galaxies.add_column(Column(SkyCoord(galaxies['ra'],galaxies['dec'],unit=(u.degree, u.degree),\n",
    "                   distance=Distance(galaxies['distance'],u.pc),frame='icrs'), name = 'coords'))"
   ]
  },
  {
   "cell_type": "code",
   "execution_count": 52,
   "metadata": {
    "collapsed": false
   },
   "outputs": [
    {
     "data": {
      "text/plain": [
       "(0, 1)"
      ]
     },
     "execution_count": 52,
     "metadata": {},
     "output_type": "execute_result"
    },
    {
     "data": {
      "image/png": "[encoded data removed]",
      "text/plain": [
       "<matplotlib.figure.Figure at 0x1076e5410>"
      ]
     },
     "metadata": {},
     "output_type": "display_data"
    }
   ],
   "source": [
    "NBINS = 10000\n",
    "redshift_hist = plt.hist(test_data['z'], NBINS)\n",
    "plt.xlim(0,1)\n"
   ]
  },
  {
   "cell_type": "code",
   "execution_count": 56,
   "metadata": {
    "collapsed": false
   },
   "outputs": [
    {
     "data": {
      "text/plain": [
       "6.9186325"
      ]
     },
     "execution_count": 56,
     "metadata": {},
     "output_type": "execute_result"
    }
   ],
   "source": [
    "max(test_data['z'])"
   ]
  },
  {
   "cell_type": "code",
   "execution_count": 54,
   "metadata": {
    "collapsed": false,
    "scrolled": true
   },
   "outputs": [
    {
     "data": {
      "text/plain": [
       "(0, 10)"
      ]
     },
     "execution_count": 54,
     "metadata": {},
     "output_type": "execute_result"
    },
    {
     "data": {
      "image/png": "[encoded data removed]",
      "text/plain": [
       "<matplotlib.figure.Figure at 0x10d6d1a50>"
      ]
     },
     "metadata": {},
     "output_type": "display_data"
    }
   ],
   "source": [
    "NBINS = 10000\n",
    "redshift_hist = plt.hist(test_data['z'], NBINS)\n",
    "#plt.xlim(0,1)\n",
    "plt.ylim(0,10)"
   ]
  },
  {
   "cell_type": "code",
   "execution_count": 50,
   "metadata": {
    "collapsed": false
   },
   "outputs": [
    {
     "name": "stdout",
     "output_type": "stream",
     "text": [
      "359.997 0.00170833\n",
      "70.2689 -11.2528\n"
     ]
    },
    {
     "data": {
      "image/png": "[encoded data removed]",
      "text/plain": [
       "<matplotlib.figure.Figure at 0x10691ac90>"
      ]
     },
     "metadata": {},
     "output_type": "display_data"
    }
   ],
   "source": [
    "#import numpy as np\n",
    "#from matplotlib.colors import LogNorm\n",
    "\n",
    "#NBINS = (10,10)\n",
    "plt.scatter(test_data['ra'], test_data['dec'])\n",
    "#img_zero_mpl = plt.hist2d(test_data['ra'], test_data['dec'], NBINS, cmap='Spectral', norm=LogNorm())\n",
    "\n",
    "#cbar = plt.colorbar(ticks=[1.0,3.0,6.0])\n",
    "#cbar.ax.set_yticklabels(['1','3','6'])\n",
    "\n",
    "#plt.xlabel('x')\n",
    "#plt.ylabel('y')\n",
    "\n",
    "print max(test_data['ra']), min(test_data['ra'])\n",
    "print max(test_data['dec']), min(test_data['dec'])"
   ]
  },
  {
   "cell_type": "code",
   "execution_count": 62,
   "metadata": {
    "collapsed": true
   },
   "outputs": [],
   "source": [
    "from astropy.cosmology import WMAP9 as cosmo"
   ]
  },
  {
   "cell_type": "code",
   "execution_count": 63,
   "metadata": {
    "collapsed": false
   },
   "outputs": [
    {
     "data": {
      "text/latex": [
       "$69.32 \\; \\mathrm{\\frac{km}{Mpc\\,s}}$"
      ],
      "text/plain": [
       "<Quantity 69.32 km / (Mpc s)>"
      ]
     },
     "execution_count": 63,
     "metadata": {},
     "output_type": "execute_result"
    }
   ],
   "source": [
    "cosmo.H(0)"
   ]
  },
  {
   "cell_type": "code",
   "execution_count": 64,
   "metadata": {
    "collapsed": false
   },
   "outputs": [
    {
     "data": {
      "text/latex": [
       "$472.9771 \\; \\mathrm{\\frac{kpc}{{}^{\\prime}}}$"
      ],
      "text/plain": [
       "<Quantity 472.97709620405266 kpc / arcmin>"
      ]
     },
     "execution_count": 64,
     "metadata": {},
     "output_type": "execute_result"
    }
   ],
   "source": [
    "cosmo.kpc_proper_per_arcmin(3)"
   ]
  },
  {
   "cell_type": "code",
   "execution_count": 71,
   "metadata": {
    "collapsed": false
   },
   "outputs": [
    {
     "data": {
      "text/latex": [
       "$8848.3053 \\; \\mathrm{Mpc}$"
      ],
      "text/plain": [
       "<Quantity 8848.305342342208 Mpc>"
      ]
     },
     "execution_count": 71,
     "metadata": {},
     "output_type": "execute_result"
    }
   ],
   "source": [
    "cosmo.comoving_distance(7)"
   ]
  },
  {
   "cell_type": "code",
   "execution_count": 80,
   "metadata": {
    "collapsed": false
   },
   "outputs": [
    {
     "data": {
      "text/latex": [
       "$13.7689 \\; \\mathrm{Gyr}$"
      ],
      "text/plain": [
       "<Quantity 13.768899510508358 Gyr>"
      ]
     },
     "execution_count": 80,
     "metadata": {},
     "output_type": "execute_result"
    }
   ],
   "source": [
    "cosmo.age(0)"
   ]
  },
  {
   "cell_type": "code",
   "execution_count": 84,
   "metadata": {
    "collapsed": false
   },
   "outputs": [],
   "source": [
    "from astropy.cosmology import Planck13"
   ]
  },
  {
   "cell_type": "code",
   "execution_count": null,
   "metadata": {
    "collapsed": true
   },
   "outputs": [],
   "source": []
  }
 ],
 "metadata": {
  "kernelspec": {
   "display_name": "Python 2",
   "language": "python",
   "name": "python2"
  },
  "language_info": {
   "codemirror_mode": {
    "name": "ipython",
    "version": 2
   },
   "file_extension": ".py",
   "mimetype": "text/x-python",
   "name": "python",
   "nbconvert_exporter": "python",
   "pygments_lexer": "ipython2",
   "version": "2.7.10"
  }
 },
 "nbformat": 4,
 "nbformat_minor": 0
}
