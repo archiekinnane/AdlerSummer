{
 "cells": [
  {
   "cell_type": "markdown",
   "metadata": {},
   "source": [
    "## Creating and filling Open Space directories\n",
    "\n",
    "Put your .asset and .speck files in the new_OS_files directory. Then change the name of asset_file and speck_file to your file names and run the script below."
   ]
  },
  {
   "cell_type": "code",
   "execution_count": 187,
   "metadata": {},
   "outputs": [],
   "source": [
    "asset_file = \"test.asset\"\n",
    "speck_file = \"galaxyzoo.speck\""
   ]
  },
  {
   "cell_type": "code",
   "execution_count": 188,
   "metadata": {
    "scrolled": true
   },
   "outputs": [
    {
     "name": "stdout",
     "output_type": "stream",
     "text": [
      "Speck file not found in new_OS_files directory\n"
     ]
    }
   ],
   "source": [
    "import os\n",
    "from shutil import copy2\n",
    "\n",
    "start_path_OS = \"E:\\\\OpenSpace-0.11.1\\\\sync\\\\http\\\\\"\n",
    "start_path_me = \"C:\\\\Users\\\\akinnane\\\\Downloads\\\\new_OS_files\\\\\"\n",
    "\n",
    "if os.path.isfile(os.path.join(start_path_me, speck_file)):\n",
    "    final_path_speck = os.path.join(start_path_OS, \"adlerplanetarium_\" + speck_file[:-6] + \"_speck\\\\1\")\n",
    "    if not os.path.isdir(final_path_speck):\n",
    "        os.makedirs (final_path_speck)\n",
    "        if not os.path.isfile(os.path.join(final_path_speck, speck_file)):\n",
    "            copy2(os.path.join(start_path_me, speck_file), final_path_speck)\n",
    "        if not os.path.isfile(os.path.join(final_path_speck[:-2], \"1.ossync\")):\n",
    "            copy2(os.path.join(start_path_me, \"1.ossync\"), final_path_speck[:-2])\n",
    "            \n",
    "    final_path_textures = os.path.join(start_path_OS, \"adlerplanetarium_\" + speck_file[:-6] + \"_textures\\\\1\")\n",
    "    if not os.path.isdir(final_path_textures):\n",
    "        os.makedirs (final_path_textures)\n",
    "        if not os.path.isfile(os.path.join(final_path_textures, \"point3.png\")):\n",
    "            copy2(os.path.join(start_path_me, \"point3.png\"), final_path_textures)\n",
    "        if not os.path.isfile(os.path.join(final_path_textures[:-2], \"1.ossync\")):\n",
    "            copy2(os.path.join(start_path_me, \"1.ossync\"), final_path_textures[:-2])\n",
    "else:\n",
    "    print (\"Speck file not found in new_OS_files directory\")\n",
    "        \n",
    "asset_path = \"E:\\\\OpenSpace-0.11.1\\\\data\\\\assets\\\\scene\\\\digitaluniverse\\\\\"\n",
    "\n",
    "if os.path.isfile(os.path.join(start_path_me, asset_file)):\n",
    "    if not os.path.isfile(os.path.join(asset_path, asset_file)):\n",
    "        copy2(os.path.join(start_path_me, asset_file), asset_path)\n",
    "else:\n",
    "    print (\"Asset file not found in new_OS_files directory\")"
   ]
  },
  {
   "cell_type": "code",
   "execution_count": null,
   "metadata": {},
   "outputs": [],
   "source": []
  }
 ],
 "metadata": {
  "kernelspec": {
   "display_name": "Python 3",
   "language": "python",
   "name": "python3"
  },
  "language_info": {
   "codemirror_mode": {
    "name": "ipython",
    "version": 3
   },
   "file_extension": ".py",
   "mimetype": "text/x-python",
   "name": "python",
   "nbconvert_exporter": "python",
   "pygments_lexer": "ipython3",
   "version": "3.6.5"
  }
 },
 "nbformat": 4,
 "nbformat_minor": 2
}
