{
 "cells": [
  {
   "cell_type": "markdown",
   "metadata": {},
   "source": [
    "# 1. Introduction to Python and Jupyter Notebook\n",
    "\n",
    "\n",
    "## Cells in Jupyter Notebook\n",
    "There are two types of cells:\n",
    "- **Text cell**: Texts are written (like this cell)\n",
    "- **Code cell**: You can enter Python codes here and can run them.\n",
    "To run codes in a code cell, first select the cell and then press Shift-Enter key, click the 'play' button in the tool bar above, or select Cell | Run Cells in the menu bar. For code cells, input numbers are displayed at the left of the cell, for example '`In [1]`'. When running cell, the output is displayed below the cell.\n",
    "\n",
    "In the following workshop, you basically first read explanations of a topic in a text cell, and then try it in a code cell next to the text cell. "
   ]
  },
  {
   "cell_type": "markdown",
   "metadata": {},
   "source": [
    "## Print function\n",
    "The print function is useful to display the status of the running code. It can be used like\n",
    "```\n",
    "print ('text')\n",
    "```\n",
    "It can also display values of variables like  \n",
    "```\n",
    "a = 1\n",
    "print(a)\n",
    "```\n",
    "Enter the following code in the cell below and run it (Shift+Enter) to check this.\n",
    "```\n",
    "print ('text')\n",
    "a = 1\n",
    "print(a)\n",
    "```"
   ]
  },
  {
   "cell_type": "code",
   "execution_count": null,
   "metadata": {
    "collapsed": false
   },
   "outputs": [],
   "source": []
  },
  {
   "cell_type": "markdown",
   "metadata": {},
   "source": [
    "## Comments\n",
    "In Python, comments are written in codes starting with '#'. Comments don't effect on running the code. Try the following code.\n",
    "\n",
    "```\n",
    "print ('text') # print text\n",
    "a = 1 # define a\n",
    "print(a) # print the value of a\n",
    "```"
   ]
  },
  {
   "cell_type": "code",
   "execution_count": null,
   "metadata": {
    "collapsed": true
   },
   "outputs": [],
   "source": []
  },
  {
   "cell_type": "markdown",
   "metadata": {},
   "source": [
    "## Changing Directories\n",
    "This is actually something normally done in the Command Line, but it works just the same in a Jupyter notebook. A 'directory' is what you're probably used to calling a 'folder.' Y'know, like Documents, Downloads, etc. Changing directories is just like navigating between folders on your computer, except instead of clicking from folder to folder, you use text commands to go from directory to directory.\n",
    "\n",
    "### pwd\n",
    "\n",
    "The first you need to know is \"pwd\" -- this stands for \"present working directory.\" This tells you where you currently are. Try it below -- it'll probably say something like /Users/yourname, or maybe /Users/yourname/Documents."
   ]
  },
  {
   "cell_type": "code",
   "execution_count": null,
   "metadata": {
    "collapsed": true
   },
   "outputs": [],
   "source": []
  },
  {
   "cell_type": "markdown",
   "metadata": {},
   "source": [
    "### ls\n",
    "So where do you go from here? Well let's see what folders you have beneath you. You do this with \"ls\" -- which stands for \"list segments.\" This will show you everything that is contained in the directory you are currently in. Try it below."
   ]
  },
  {
   "cell_type": "code",
   "execution_count": null,
   "metadata": {
    "collapsed": true
   },
   "outputs": [],
   "source": []
  },
  {
   "cell_type": "markdown",
   "metadata": {
    "collapsed": false
   },
   "source": [
    "### cd\n",
    "Now, if you want to move to another directory, you use \"cd\" -- \"change directory\" -- followed by a space and then the name of the directory you want to go into. So if you are in /Users/yourname and you want to go to Documents, you'd type cd Documents. Try it below!"
   ]
  },
  {
   "cell_type": "code",
   "execution_count": null,
   "metadata": {
    "collapsed": true
   },
   "outputs": [],
   "source": []
  },
  {
   "cell_type": "markdown",
   "metadata": {},
   "source": [
    "\n",
    "### ..\n",
    "You can think of directories as branching out like a tree. So the last thing you need to know is how to go backwards. This is done by using the cd command followed by two dots: \"cd ..\"  If you want to see what's located one step back from you, you can also use \"ls ..\"! "
   ]
  },
  {
   "cell_type": "code",
   "execution_count": null,
   "metadata": {
    "collapsed": true
   },
   "outputs": [],
   "source": []
  },
  {
   "cell_type": "markdown",
   "metadata": {},
   "source": [
    "## For-loop\n",
    "A for-loop in which the index `i` runs from `i=0` to `i=9` is written as follows.\n",
    "```\n",
    "for i in range(10):\n",
    "    print(i)\n",
    "```\n",
    "In this for-loop, the print function is called 10 times changing the value of `i`.\n",
    "\n",
    "Note that in Python **the identation in codes plays a very important role**. The indentation defines a code block for which the for-loop, in this case, is applied.\n",
    "To try an example of the for-loop, enter the above code in the cell below and run it."
   ]
  },
  {
   "cell_type": "code",
   "execution_count": null,
   "metadata": {
    "collapsed": false
   },
   "outputs": [],
   "source": []
  },
  {
   "cell_type": "markdown",
   "metadata": {},
   "source": [
    "## If-statememt\n",
    "An if-statement is written like\n",
    "```\n",
    "if a > 0:\n",
    "    print ('a > 0') # If the condition 'a > 0' is true, this line runs\n",
    "```\n",
    "Like the for-loop, codes within an indented block are run when the condition for the if-statement is true. An if-else-statement is given as follows\n",
    "```\n",
    "a = 1\n",
    "if a > 0:\n",
    "    print ('a > 0 is true') # If the condition 'a > 0' is true, this line runs\n",
    "else:\n",
    "    print ('a > 0 is false') # Otherwise, this line runs\n",
    "```\n",
    "Enter the above code in the following cell and run it."
   ]
  },
  {
   "cell_type": "code",
   "execution_count": null,
   "metadata": {
    "collapsed": false
   },
   "outputs": [],
   "source": []
  },
  {
   "cell_type": "markdown",
   "metadata": {},
   "source": [
    "## Function\n",
    "In Python, users can define their own functions.\n",
    "Generally, a function is defined as a block of codes. It can take arguments as an input and it also can return values as an output. It can be called repeatedly any number of times if necessary.\n",
    "\n",
    "In Python, a function is defined with the '`def`' keyword as follows:\n",
    "```\n",
    "def add(a,b):\n",
    "    return a+b\n",
    "```\n",
    "The contents of the fuction is written in an indented block. Functions can return values with the `return` keyword.\n",
    " \n",
    "To define a function and to test it, enter the following codes in the cell below and run it.\n",
    "```\n",
    "def add(a,b):\n",
    "    return a+b\n",
    "    \n",
    "print(add(1,2))\n",
    "```\n"
   ]
  },
  {
   "cell_type": "code",
   "execution_count": null,
   "metadata": {
    "collapsed": false
   },
   "outputs": [],
   "source": []
  },
  {
   "cell_type": "markdown",
   "metadata": {},
   "source": [
    "## Module\n",
    "In Python, a lot of functions are defined in modules. \n",
    "For example, mathematical functions are defined in the `math` module.\n",
    "To use functions in a module, import the module with the `import` keyword.\n",
    "Enter the following code and run it to see how to use a module. \n",
    "\n",
    "```\n",
    "import math\n",
    "\n",
    "print(math.pi) # print pi\n",
    "print(math.sin(math.pi)) # print sin(pi) \n",
    "```"
   ]
  },
  {
   "cell_type": "code",
   "execution_count": null,
   "metadata": {
    "collapsed": false
   },
   "outputs": [],
   "source": []
  },
  {
   "cell_type": "markdown",
   "metadata": {},
   "source": [
    "## Working with datasets\n",
    "Knowing how to plot data in Python is very important. First, we need to load a dataset. Download the file \"stardata.txt\". \n",
    "\n",
    "You can put it in whatever folder you want when you download it. Once you do, the first thing we need to do is navigate to the correct directory (it's easiest to load in a file if you are already in the directory that that file is in). Do this below -- remember, pwd to see where you are, and cd to change directories."
   ]
  },
  {
   "cell_type": "code",
   "execution_count": null,
   "metadata": {
    "collapsed": true
   },
   "outputs": [],
   "source": []
  },
  {
   "cell_type": "markdown",
   "metadata": {},
   "source": [
    "## Reading in data\n",
    "Next, we're going to open the file. There are a lot of ways to do this -- one of the easiest is to use the ascii module. Import and read in the data to a table using the code below.\n",
    "\n",
    "```\n",
    "from astropy.io import ascii\n",
    "tbl = ascii.read(\"stardata.csv\")\n",
    "tbl\n",
    "\n",
    "```"
   ]
  },
  {
   "cell_type": "code",
   "execution_count": null,
   "metadata": {
    "collapsed": false
   },
   "outputs": [],
   "source": []
  },
  {
   "cell_type": "markdown",
   "metadata": {},
   "source": [
    "## Selecting a variable from the table\n",
    "The nice thing about ascii is that it will automatically try and figure out how to delineate your data -- and it usually does a pretty good job. As you can see above, it realized that we had two columns of data, and that the first line of the file was the name of each column. Good job, ascii!\n",
    "\n",
    "Now, we can access the columns by using the name our our table (\"tbl\") and then directly using the column names as \"keys\" of the table object. \n",
    "\n",
    "```\n",
    "print tbl['teff']\n",
    "print tbl['fe_h']\n",
    "\n",
    "```"
   ]
  },
  {
   "cell_type": "code",
   "execution_count": null,
   "metadata": {
    "collapsed": false
   },
   "outputs": [],
   "source": []
  },
  {
   "cell_type": "markdown",
   "metadata": {},
   "source": [
    "## Importing a plotting module\n",
    "Now that we've got our data, all we need to do is import a plotting module, and then start plotting! We're going to use matplotlib.pyplot. Sometimes, when we have a long module name like this, we 'name' it as something shorter when importing it. Then, to call it we can just use the nickname we gave it. Import matplotlib.pyplot below. Whenever we use matplotlib in a Notebook like this, it's good to use the \"%matplotlib inline\" command also -- this makes it so that any plots we make will show up right below the cell that we coded them.\n",
    "\n",
    "```\n",
    "import matplotlib.pyplot as plt\n",
    "%matplotlib inline\n",
    "\n",
    "```"
   ]
  },
  {
   "cell_type": "code",
   "execution_count": null,
   "metadata": {
    "collapsed": true
   },
   "outputs": [],
   "source": []
  },
  {
   "cell_type": "markdown",
   "metadata": {},
   "source": [
    "## Making a plot\n",
    "To make a scattter plot in python, you use the command \n",
    "\n",
    "```\n",
    "plt.scatter(x,y)\n",
    "```\n",
    "\n",
    "See if you can figure out how to plot mass vs age below!"
   ]
  },
  {
   "cell_type": "code",
   "execution_count": null,
   "metadata": {
    "collapsed": false
   },
   "outputs": [],
   "source": []
  },
  {
   "cell_type": "markdown",
   "metadata": {
    "collapsed": true
   },
   "source": [
    "## Making the plot look nicer: seaborn\n",
    "\n",
    "First, run the code below:\n",
    "\n",
    "```\n",
    "import seaborn as sns\n",
    "sns.set()\n",
    "\n",
    "```\n",
    "This will maket the default settings of your plots look nicer."
   ]
  },
  {
   "cell_type": "code",
   "execution_count": null,
   "metadata": {
    "collapsed": false
   },
   "outputs": [],
   "source": []
  },
  {
   "cell_type": "markdown",
   "metadata": {},
   "source": [
    "## Making the plot look nicer: matplotlib functions\n",
    "Then, look at the following documentation to find out how to add a title and label your axes. You can also mess around with the formatting if you want. \n",
    "\n",
    "https://matplotlib.org/2.0.2/api/pyplot_summary.html\n",
    "\n",
    "Plot your prettier graph below!"
   ]
  },
  {
   "cell_type": "code",
   "execution_count": null,
   "metadata": {
    "collapsed": false
   },
   "outputs": [],
   "source": []
  },
  {
   "cell_type": "markdown",
   "metadata": {},
   "source": [
    "## Analyzing the data\n",
    "What trend do you notice from the graph above? Why do you think stars might exhibit this relationship?"
   ]
  },
  {
   "cell_type": "markdown",
   "metadata": {},
   "source": [
    "Answer:"
   ]
  },
  {
   "cell_type": "markdown",
   "metadata": {},
   "source": [
    "Mess around with plotting the other parameters you have against each other. What trends do you see here?"
   ]
  },
  {
   "cell_type": "code",
   "execution_count": null,
   "metadata": {
    "collapsed": true
   },
   "outputs": [],
   "source": []
  }
 ],
 "metadata": {
  "kernelspec": {
   "display_name": "Python 2",
   "language": "python",
   "name": "python2"
  },
  "language_info": {
   "codemirror_mode": {
    "name": "ipython",
    "version": 2
   },
   "file_extension": ".py",
   "mimetype": "text/x-python",
   "name": "python",
   "nbconvert_exporter": "python",
   "pygments_lexer": "ipython2",
   "version": "2.7.13"
  }
 },
 "nbformat": 4,
 "nbformat_minor": 2
}
